{
 "cells": [
  {
   "cell_type": "code",
   "execution_count": 3,
   "metadata": {},
   "outputs": [],
   "source": [
    "from copy import deepcopy\n",
    "import json\n",
    "\n",
    "import ray\n",
    "try:\n",
    "    from ray.rllib.agents.agent import get_agent_class\n",
    "except ImportError:\n",
    "    from ray.rllib.agents.registry import get_agent_class\n",
    "from ray.rllib.agents.ppo.ppo_policy import PPOTFPolicy\n",
    "from ray import tune\n",
    "from ray.tune.registry import register_env\n",
    "from ray.tune import run_experiments\n",
    "\n",
    "from flow.envs.multiagent import MultiAgentAccelPOEnv, MultiAgentEightEnv\n",
    "from flow.networks import FigureEightNetwork\n",
    "from flow.controllers import ContinuousRouter\n",
    "from flow.controllers import IDMController\n",
    "from flow.controllers import RLController\n",
    "from flow.core.params import EnvParams\n",
    "from flow.core.params import InitialConfig\n",
    "from flow.core.params import NetParams\n",
    "from flow.core.params import SumoParams\n",
    "from flow.core.params import SumoCarFollowingParams\n",
    "from flow.core.params import VehicleParams\n",
    "from flow.networks.figure_eight import ADDITIONAL_NET_PARAMS\n",
    "from flow.utils.registry import make_create_env\n",
    "from flow.utils.rllib import FlowParamsEncoder\n",
    "\n",
    "import numpy as np\n",
    "# time horizon of a single rollout\n",
    "HORIZON = 1000\n",
    "# number of rollouts per training iteration\n",
    "N_ROLLOUTS = 1\n",
    "# number of parallel workers\n",
    "N_CPUS = 1\n",
    "N_ITER = 100000\n",
    "N_CHECK = 100\n",
    "EP_MAX = 2\n",
    "# We place one autonomous vehicle and 13 human-driven vehicles in the network\n",
    "vehicles = VehicleParams()\n",
    "# vehicles.add(\n",
    "#     veh_id='human',\n",
    "#     acceleration_controller=(IDMController, {\n",
    "#         'noise': 0.2\n",
    "#     }),\n",
    "#     routing_controller=(ContinuousRouter, {}),\n",
    "#     car_following_params=SumoCarFollowingParams(\n",
    "#         speed_mode='obey_safe_speed',\n",
    "#     ),\n",
    "#     num_vehicles=0)\n",
    "vehicles.add(\n",
    "    veh_id='rl',\n",
    "    acceleration_controller=(RLController, {}),\n",
    "    routing_controller=(ContinuousRouter, {}),\n",
    "    car_following_params=SumoCarFollowingParams(\n",
    "        speed_mode='aggressive',\n",
    "        # speed_mode=\"obey_safe_speed\",\n",
    "    ),\n",
    "    num_vehicles=10)\n",
    "\n",
    "# sumo-related parameters (see flow.core.params.SumoParams)\n",
    "sim_params=SumoParams(\n",
    "    sim_step=0.1,\n",
    "    render=False,\n",
    ")\n",
    "\n",
    "env_params=EnvParams(\n",
    "    horizon=HORIZON,\n",
    "    additional_params={\n",
    "        'target_velocity': 20,\n",
    "        'max_accel': 3,\n",
    "        'max_decel': 3,\n",
    "        # 'perturb_weight': 0.03,\n",
    "        'sort_vehicles': False\n",
    "    },\n",
    ")\n",
    "\n",
    "net=NetParams(\n",
    "    additional_params=deepcopy(ADDITIONAL_NET_PARAMS),\n",
    ")\n",
    "# name of the network class the experiment is running on\n",
    "network=FigureEightNetwork(\n",
    "    name=\"marl_eight\",\n",
    "    vehicles=vehicles,\n",
    "    net_params=net)\n",
    "\n",
    "# name of the flow environment the experiment is running on\n",
    "env = MultiAgentEightEnv(env_params, sim_params, network)"
   ]
  },
  {
   "cell_type": "code",
   "execution_count": 4,
   "metadata": {},
   "outputs": [],
   "source": [
    "state = env.reset()"
   ]
  },
  {
   "cell_type": "code",
   "execution_count": 13,
   "metadata": {},
   "outputs": [
    {
     "data": {
      "text/plain": [
       "['rl_0',\n",
       " 'rl_1',\n",
       " 'rl_2',\n",
       " 'rl_3',\n",
       " 'rl_4',\n",
       " 'rl_5',\n",
       " 'rl_6',\n",
       " 'rl_7',\n",
       " 'rl_8',\n",
       " 'rl_9']"
      ]
     },
     "execution_count": 13,
     "metadata": {},
     "output_type": "execute_result"
    }
   ],
   "source": [
    "ids = env.k.vehicle.get_rl_ids()\n",
    "ids"
   ]
  },
  {
   "cell_type": "code",
   "execution_count": 12,
   "metadata": {},
   "outputs": [
    {
     "data": {
      "text/plain": [
       "'rl_9'"
      ]
     },
     "execution_count": 12,
     "metadata": {},
     "output_type": "execute_result"
    }
   ],
   "source": [
    "ids[9]"
   ]
  },
  {
   "cell_type": "code",
   "execution_count": 14,
   "metadata": {},
   "outputs": [
    {
     "data": {
      "text/plain": [
       "array([0.0006636 , 0.        , 0.        , 0.08359956, 0.        ,\n",
       "       0.1088496 ])"
      ]
     },
     "execution_count": 14,
     "metadata": {},
     "output_type": "execute_result"
    }
   ],
   "source": [
    "state['rl_0']"
   ]
  },
  {
   "cell_type": "code",
   "execution_count": 16,
   "metadata": {},
   "outputs": [],
   "source": [
    "a = state['rl_0'].shape"
   ]
  },
  {
   "cell_type": "code",
   "execution_count": 17,
   "metadata": {},
   "outputs": [
    {
     "data": {
      "text/plain": [
       "6"
      ]
     },
     "execution_count": 17,
     "metadata": {},
     "output_type": "execute_result"
    }
   ],
   "source": [
    "a[0]"
   ]
  },
  {
   "cell_type": "code",
   "execution_count": 19,
   "metadata": {},
   "outputs": [
    {
     "data": {
      "text/plain": [
       "[1, 1, 1]"
      ]
     },
     "execution_count": 19,
     "metadata": {},
     "output_type": "execute_result"
    }
   ],
   "source": [
    "b = [1] * 3\n",
    "b"
   ]
  },
  {
   "cell_type": "code",
   "execution_count": 27,
   "metadata": {},
   "outputs": [
    {
     "data": {
      "text/plain": [
       "0"
      ]
     },
     "execution_count": 27,
     "metadata": {},
     "output_type": "execute_result"
    }
   ],
   "source": [
    "np.random.randint(3)"
   ]
  },
  {
   "cell_type": "code",
   "execution_count": null,
   "metadata": {},
   "outputs": [],
   "source": []
  }
 ],
 "metadata": {
  "kernelspec": {
   "display_name": "Python 3",
   "language": "python",
   "name": "python3"
  },
  "language_info": {
   "codemirror_mode": {
    "name": "ipython",
    "version": 3
   },
   "file_extension": ".py",
   "mimetype": "text/x-python",
   "name": "python",
   "nbconvert_exporter": "python",
   "pygments_lexer": "ipython3",
   "version": "3.5.2"
  }
 },
 "nbformat": 4,
 "nbformat_minor": 4
}
