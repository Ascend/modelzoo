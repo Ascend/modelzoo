{
 "cells": [
  {
   "cell_type": "markdown",
   "metadata": {},
   "source": [
    "<i>Copyright (c) Microsoft Corporation. All rights reserved.</i>\n",
    "\n",
    "<i>Licensed under the MIT License.</i>"
   ]
  },
  {
   "cell_type": "markdown",
   "metadata": {},
   "source": [
    "# Sequential Recommender Quick Start\n",
    "\n",
    "### Example: SLi_Rec : Adaptive User Modeling with Long and Short-Term Preferences for Personailzed Recommendation\n",
    "Unlike a general recommender such as Matrix Factorization or xDeepFM (in the repo) which doesn't consider the order of the user's activities, sequential recommender systems take the sequence of the user behaviors as context and the goal is to predict the items that the user will interact in a short time (in an extreme case, the item that the user will interact next).\n",
    "\n",
    "This notebook aims to give you a quick example of how to train a sequential model based on a public Amazon dataset. Currently, we can support NextItNet \\[4\\], GRU4Rec \\[2\\], Caser \\[3\\], A2SVD \\[1\\] and SLi_Rec \\[1\\]. Without loss of generality, this notebook takes [SLi_Rec model](https://www.microsoft.com/en-us/research/uploads/prod/2019/07/IJCAI19-ready_v1.pdf) for example.\n",
    "SLi_Rec \\[1\\] is a deep learning-based model aims at capturing both long and short-term user preferences for precise recommender systems. To summarize, SLi_Rec has the following key properties:\n",
    "\n",
    "* It adopts the attentive \"Asymmetric-SVD\" paradigm for long-term modeling;\n",
    "* It takes both time irregularity and semantic irregularity into consideration by modifying the gating logic in LSTM.\n",
    "* It uses an attention mechanism to dynamic fuse the long-term component and short-term component.\n",
    "\n",
    "In this notebook, we test SLi_Rec on a subset of the public dataset: [Amazon_reviews](http://snap.stanford.edu/data/amazon/productGraph/categoryFiles/reviews_Movies_and_TV_5.json.gz) and [Amazon_metadata](http://snap.stanford.edu/data/amazon/productGraph/categoryFiles/meta_Movies_and_TV.json.gz)\n",
    "\n",
    "This notebook is well tested under TF 1.15.0. "
   ]
  },
  {
   "cell_type": "markdown",
   "metadata": {},
   "source": [
    "## 0. Global Settings and Imports"
   ]
  },
  {
   "cell_type": "code",
   "execution_count": 1,
   "metadata": {},
   "outputs": [],
   "source": [
    "import sys\n",
    "sys.path.append(\"../../\")\n",
    "import os\n",
    "import logging\n",
    "import papermill as pm\n",
    "import scrapbook as sb\n",
    "from tempfile import TemporaryDirectory\n",
    "\n",
    "import tensorflow as tf\n",
    "import time\n",
    "\n",
    "import numpy as np\n",
    "\n",
    "from reco_utils.common.constants import SEED\n",
    "from reco_utils.recommender.deeprec.deeprec_utils import (\n",
    "    prepare_hparams\n",
    ")\n",
    "from reco_utils.dataset.amazon_reviews import download_and_extract, data_preprocessing\n",
    "from reco_utils.dataset.download_utils import maybe_download\n",
    "\n",
    "\n",
    "from reco_utils.recommender.deeprec.models.sequential.sli_rec import SLI_RECModel as SeqModel\n",
    "####  to use the other model, use one of the following lines:\n",
    "# from reco_utils.recommender.deeprec.models.sequential.asvd import A2SVDModel as SeqModel\n",
    "# from reco_utils.recommender.deeprec.models.sequential.caser import CaserModel as SeqModel\n",
    "# from reco_utils.recommender.deeprec.models.sequential.gru4rec import GRU4RecModel as SeqModel\n",
    "\n",
    "#from reco_utils.recommender.deeprec.models.sequential.nextitnet import NextItNetModel\n",
    "\n",
    "from reco_utils.recommender.deeprec.io.sequential_iterator import SequentialIterator\n",
    "#from reco_utils.recommender.deeprec.io.nextitnet_iterator import NextItNetIterator\n",
    "\n",
    "\n",
    "\n",
    "##  ATTENTION: change to the corresponding config file, e.g., caser.yaml for CaserModel \n",
    "yaml_file = '../../reco_utils/recommender/deeprec/config/sli_rec.yaml'  "
   ]
  },
  {
   "cell_type": "code",
   "execution_count": 2,
   "metadata": {},
   "outputs": [
    {
     "name": "stdout",
     "output_type": "stream",
     "text": [
      "System version: 3.6.8 |Anaconda, Inc.| (default, Dec 30 2018, 01:22:34) \n",
      "[GCC 7.3.0]\n",
      "Tensorflow version: 1.15.0\n"
     ]
    }
   ],
   "source": [
    "print(\"System version: {}\".format(sys.version))\n",
    "print(\"Tensorflow version: {}\".format(tf.__version__))\n"
   ]
  },
  {
   "cell_type": "markdown",
   "metadata": {},
   "source": [
    "#### Parameters"
   ]
  },
  {
   "cell_type": "code",
   "execution_count": 3,
   "metadata": {
    "tags": [
     "parameters"
    ]
   },
   "outputs": [],
   "source": [
    "EPOCHS = 10\n",
    "BATCH_SIZE = 400\n",
    "RANDOM_SEED = SEED  # Set None for non-deterministic result\n",
    "\n",
    "data_path = os.path.join(\"..\", \"..\", \"tests\", \"resources\", \"deeprec\", \"slirec\")"
   ]
  },
  {
   "cell_type": "markdown",
   "metadata": {},
   "source": [
    "##  1. Input data format\n",
    "The input data contains 8 columns, i.e.,   `<label> <user_id> <item_id> <category_id> <timestamp> <history_item_ids> <history_cateory_ids> <hitory_timestamp>`  columns are seperated by `\"\\t\"`.  item_id and category_id denote the target item and category, which means that for this instance, we want to guess whether user user_id will interact with item_id at timestamp. `<history_*>` columns record the user behavior list up to `<timestamp>`, elements are separated by commas.  `<label>` is a binary value with 1 for positive instances and 0 for negative instances.  One example for an instance is: \n",
    "\n",
    "`1       A1QQ86H5M2LVW2  B0059XTU1S      Movies  1377561600      B002ZG97WE,B004IK30PA,B000BNX3AU,B0017ANB08,B005LAIHW2  Movies,Movies,Movies,Movies,Movies   1304294400,1304812800,1315785600,1316304000,1356998400` \n",
    "\n",
    "In data preprocessing stage, we have a script to generate some ID mapping dictionaries, so user_id, item_id and category_id will be mapped into interager index starting from 1. And you need to tell the input iterator where is the ID mapping files are. (For example, in the next section, we have some mapping files like user_vocab, item_vocab, and cate_vocab).  The data preprocessing script is at https://github.com/microsoft/recommenders/blob/master/reco_utils/dataset/amazon_reviews.py, you need to call the `_create_vocab(train_file, user_vocab, item_vocab, cate_vocab)` function. Note that ID vocabulary only creates from the train_file, so the new IDs in valid_file or test_file will be regarded as unknown IDs and assigned with a defualt 0 index.\n",
    "\n",
    "Only the SLi_Rec model is time-aware. For the other models, you can just pad some meaningless timestamp in the data files to fill up the format, the models will ignore these columns.\n",
    "\n",
    "We use Softmax to the loss function. In training and evalution stage, we group 1 positive instance with num_ngs negative instances. Pair-wise ranking can be regarded as a special case of Softmax ranking, where num_ngs is set to 1. \n",
    "\n",
    "More specifically,  for training and evalation, you need to organize the data file such that each one positive instance is followd by num_ngs negative instances. Our program will take 1+num_ngs lines as a unit for Softmax calculation. num_ngs is a parameter you need to pass to the `prepare_hparams`, `fit` and `run_eval` function. `train_num_ngs` in `prepare_hparams` denotes the number of negative instances for training, where a recommended number is 4. `valid_num_ngs` and `num_ngs` in `fit` and `run_eval` denote the number in evalution. In evaluation, the model calculates metrics among the 1+num_ngs instances. For the `predict` function, since we only need to calcuate a socre for each individual instance, there is no need for num_ngs setting.  More details and examples will be provided in the following sections.\n",
    "\n",
    "For training stage, if you don't want to prepare negative instances, you can just provide positive instances and set the parameter `need_sample=True, train_num_ngs=train_num_ngs` for function `prepare_hparams`, our model will dynamicly sample `train_num_ngs` instances as negative samples in each mini batch.\n",
    "\n",
    "###  Amazon dataset\n",
    "Now let's start with a public dataset containing product reviews and metadata from Amazon, which is widely used as a benchmark dataset in recommemdation systems field."
   ]
  },
  {
   "cell_type": "code",
   "execution_count": 4,
   "metadata": {
    "scrolled": false
   },
   "outputs": [],
   "source": [
    "\n",
    "# for test\n",
    "train_file = os.path.join(data_path, r'train_data')\n",
    "valid_file = os.path.join(data_path, r'valid_data')\n",
    "test_file = os.path.join(data_path, r'test_data')\n",
    "user_vocab = os.path.join(data_path, r'user_vocab.pkl')\n",
    "item_vocab = os.path.join(data_path, r'item_vocab.pkl')\n",
    "cate_vocab = os.path.join(data_path, r'category_vocab.pkl')\n",
    "output_file = os.path.join(data_path, r'output.txt')\n",
    "\n",
    "reviews_name = 'reviews_Movies_and_TV_5.json'\n",
    "meta_name = 'meta_Movies_and_TV.json'\n",
    "reviews_file = os.path.join(data_path, reviews_name)\n",
    "meta_file = os.path.join(data_path, meta_name)\n",
    "train_num_ngs = 4 # number of negative instances with a positive instance for training\n",
    "valid_num_ngs = 4 # number of negative instances with a positive instance for validation\n",
    "test_num_ngs = 9 # number of negative instances with a positive instance for testing\n",
    "sample_rate = 0.01 # sample a small item set for training and testing here for fast example\n",
    "\n",
    "input_files = [reviews_file, meta_file, train_file, valid_file, test_file, user_vocab, item_vocab, cate_vocab]\n",
    "\n",
    "if not os.path.exists(train_file):\n",
    "    download_and_extract(reviews_name, reviews_file)\n",
    "    download_and_extract(meta_name, meta_file)\n",
    "    data_preprocessing(*input_files, sample_rate=sample_rate, valid_num_ngs=valid_num_ngs, test_num_ngs=test_num_ngs)\n",
    "    #### uncomment this for the NextItNet model, because it does not need to unfold the user history\n",
    "    # data_preprocessing(*input_files, sample_rate=sample_rate, valid_num_ngs=valid_num_ngs, test_num_ngs=test_num_ngs, is_history_expanding=False)\n"
   ]
  },
  {
   "cell_type": "markdown",
   "metadata": {},
   "source": [
    "#### 1.1 Prepare hyper-parameters\n",
    "prepare_hparams() will create a full set of hyper-parameters for model training, such as learning rate, feature number, and dropout ratio. We can put those parameters in a yaml file (a complete list of parameters can be found under our config folder) , or pass parameters as the function's parameters (which will overwrite yaml settings).\n",
    "\n",
    "Parameters hints: <br>\n",
    "`need_sample` controls whether to perform dynamic negative sampling in mini-batch. \n",
    "`train_num_ngs` indicates how many negative instances followed by one positive instances.  <br>\n",
    "Examples: <br>\n",
    "(1) `need_sample=True and train_num_ngs=4`:  There are only positive instances in your training file. Our model will dynamically sample 4 negative instances for each positive instances in mini-batch. Note that if need_sample is set to True, train_num_ngs should be greater than zero. <br>\n",
    "(2) `need_sample=False and train_num_ngs=4`: In your training file, each one positive line is followed by 4 negative lines. Note that if need_sample is set to False, you must provide a traiing file with negative instances, and train_num_ngs should match the number of negative number in your training file."
   ]
  },
  {
   "cell_type": "code",
   "execution_count": 5,
   "metadata": {
    "scrolled": true
   },
   "outputs": [
    {
     "name": "stdout",
     "output_type": "stream",
     "text": [
      "WARNING:tensorflow:\n",
      "The TensorFlow contrib module will not be included in TensorFlow 2.0.\n",
      "For more information, please see:\n",
      "  * https://github.com/tensorflow/community/blob/master/rfcs/20180907-contrib-sunset.md\n",
      "  * https://github.com/tensorflow/addons\n",
      "  * https://github.com/tensorflow/io (for I/O related ops)\n",
      "If you depend on functionality not listed there, please file an issue.\n",
      "\n"
     ]
    }
   ],
   "source": [
    "### NOTE:  \n",
    "### remember to use `_create_vocab(train_file, user_vocab, item_vocab, cate_vocab)` to generate the user_vocab, item_vocab and cate_vocab files, if you are using your own dataset rather than using our demo Amazon dataset.\n",
    "hparams = prepare_hparams(yaml_file, \n",
    "                          embed_l2=0., \n",
    "                          layer_l2=0., \n",
    "                          learning_rate=0.001,  # set to 0.01 if batch normalization is disable\n",
    "                          epochs=EPOCHS,\n",
    "                          batch_size=BATCH_SIZE,\n",
    "                          show_step=20,\n",
    "                          MODEL_DIR=os.path.join(data_path, \"model/\"),\n",
    "                          SUMMARIES_DIR=os.path.join(data_path, \"summary/\"),\n",
    "                          user_vocab=user_vocab,\n",
    "                          item_vocab=item_vocab,\n",
    "                          cate_vocab=cate_vocab,\n",
    "                          need_sample=True,\n",
    "                          train_num_ngs=train_num_ngs, # provides the number of negative instances for each positive instance for loss computation.\n",
    "            )"
   ]
  },
  {
   "cell_type": "markdown",
   "metadata": {},
   "source": [
    "#### 1.2 Create data loader\n",
    "Designate a data iterator for the model. All our sequential models use SequentialIterator. \n",
    "data format is introduced aboved. \n",
    "\n",
    "<br>Validation and testing data are files after negative sampling offline with the number of `<num_ngs>` and `<test_num_ngs>`."
   ]
  },
  {
   "cell_type": "code",
   "execution_count": 6,
   "metadata": {},
   "outputs": [],
   "source": [
    "input_creator = SequentialIterator\n",
    "#### uncomment this for the NextItNet model, because it needs a special data iterator for training\n",
    "#input_creator = NextItNetIterator"
   ]
  },
  {
   "cell_type": "markdown",
   "metadata": {},
   "source": [
    "## 2. Create model\n",
    "When both hyper-parameters and data iterator are ready, we can create a model:"
   ]
  },
  {
   "cell_type": "code",
   "execution_count": 7,
   "metadata": {
    "scrolled": true
   },
   "outputs": [
    {
     "name": "stdout",
     "output_type": "stream",
     "text": [
      "WARNING:tensorflow:From ../../reco_utils/recommender/deeprec/models/sequential/sequential_base_model.py:43: The name tf.placeholder is deprecated. Please use tf.compat.v1.placeholder instead.\n",
      "\n",
      "WARNING:tensorflow:From ../../reco_utils/recommender/deeprec/models/sequential/sequential_base_model.py:64: The name tf.variable_scope is deprecated. Please use tf.compat.v1.variable_scope instead.\n",
      "\n",
      "WARNING:tensorflow:From ../../reco_utils/recommender/deeprec/models/sequential/sequential_base_model.py:253: The name tf.get_variable is deprecated. Please use tf.compat.v1.get_variable instead.\n",
      "\n",
      "WARNING:tensorflow:From ../../reco_utils/recommender/deeprec/models/sequential/sequential_base_model.py:275: The name tf.summary.histogram is deprecated. Please use tf.compat.v1.summary.histogram instead.\n",
      "\n",
      "WARNING:tensorflow:From ../../reco_utils/recommender/deeprec/models/sequential/sli_rec.py:64: dynamic_rnn (from tensorflow.python.ops.rnn) is deprecated and will be removed in a future version.\n",
      "Instructions for updating:\n",
      "Please use `keras.layers.RNN(cell)`, which is equivalent to this API\n",
      "WARNING:tensorflow:From ../../reco_utils/recommender/deeprec/models/sequential/rnn_cell_implement.py:621: calling Constant.__init__ (from tensorflow.python.ops.init_ops) with dtype is deprecated and will be removed in a future version.\n",
      "Instructions for updating:\n",
      "Call initializer instance with the dtype argument instead of passing it to the constructor\n",
      "WARNING:tensorflow:From /home/v-xdeng/.conda/envs/reco_tf15/lib/python3.6/site-packages/tensorflow_core/python/ops/rnn.py:244: where (from tensorflow.python.ops.array_ops) is deprecated and will be removed in a future version.\n",
      "Instructions for updating:\n",
      "Use tf.where in 2.0, which has the same broadcast rule as np.where\n",
      "WARNING:tensorflow:From ../../reco_utils/recommender/deeprec/models/base_model.py:677: batch_normalization (from tensorflow.python.layers.normalization) is deprecated and will be removed in a future version.\n",
      "Instructions for updating:\n",
      "Use keras.layers.BatchNormalization instead.  In particular, `tf.control_dependencies(tf.GraphKeys.UPDATE_OPS)` should not be used (consult the `tf.keras.layers.batch_normalization` documentation).\n",
      "WARNING:tensorflow:From /home/v-xdeng/.conda/envs/reco_tf15/lib/python3.6/site-packages/tensorflow_core/python/layers/normalization.py:327: Layer.apply (from tensorflow.python.keras.engine.base_layer) is deprecated and will be removed in a future version.\n",
      "Instructions for updating:\n",
      "Please use `layer.__call__` method instead.\n",
      "WARNING:tensorflow:From ../../reco_utils/recommender/deeprec/models/base_model.py:340: calling dropout (from tensorflow.python.ops.nn_ops) with keep_prob is deprecated and will be removed in a future version.\n",
      "Instructions for updating:\n",
      "Please use `rate` instead of `keep_prob`. Rate should be set to `rate = 1 - keep_prob`.\n",
      "WARNING:tensorflow:From ../../reco_utils/recommender/deeprec/models/sequential/sequential_base_model.py:332: The name tf.trainable_variables is deprecated. Please use tf.compat.v1.trainable_variables instead.\n",
      "\n"
     ]
    }
   ],
   "source": [
    "model = SeqModel(hparams, input_creator, seed=RANDOM_SEED)\n",
    "\n",
    "## sometimes we don't want to train a model from scratch\n",
    "## then we can load a pre-trained model like this: \n",
    "#model.load_model(r'your_model_path')"
   ]
  },
  {
   "cell_type": "markdown",
   "metadata": {},
   "source": [
    "Now let's see what is the model's performance at this point (without starting training):"
   ]
  },
  {
   "cell_type": "code",
   "execution_count": 8,
   "metadata": {},
   "outputs": [
    {
     "name": "stdout",
     "output_type": "stream",
     "text": [
      "{'auc': 0.5131, 'logloss': 0.6931, 'mean_mrr': 0.289, 'ndcg@2': 0.1609, 'ndcg@4': 0.2475, 'ndcg@6': 0.3219, 'group_auc': 0.5134}\n"
     ]
    }
   ],
   "source": [
    "print(model.run_eval(test_file, num_ngs=test_num_ngs)) # test_num_ngs is the number of negative lines after each positive line in your test_file"
   ]
  },
  {
   "cell_type": "markdown",
   "metadata": {},
   "source": [
    "AUC=0.5 is a state of random guess. We can see that before training, the model behaves like random guessing.\n",
    "\n",
    "#### 2.1 Train model\n",
    "Next we want to train the model on a training set, and check the performance on a validation dataset. Training the model is as simple as a function call:"
   ]
  },
  {
   "cell_type": "code",
   "execution_count": 9,
   "metadata": {
    "scrolled": true
   },
   "outputs": [
    {
     "name": "stdout",
     "output_type": "stream",
     "text": [
      "WARNING:tensorflow:From ../../reco_utils/recommender/deeprec/models/sequential/sequential_base_model.py:105: The name tf.summary.FileWriter is deprecated. Please use tf.compat.v1.summary.FileWriter instead.\n",
      "\n",
      "step 20 , total_loss: 1.6105, data_loss: 1.6105\n",
      "eval valid at epoch 1: auc:0.4977,logloss:0.6933,mean_mrr:0.4526,ndcg@2:0.3198,ndcg@4:0.51,ndcg@6:0.5866,group_auc:0.4972\n",
      "step 20 , total_loss: 1.5950, data_loss: 1.5950\n",
      "eval valid at epoch 2: auc:0.5648,logloss:0.7007,mean_mrr:0.4957,ndcg@2:0.3825,ndcg@4:0.553,ndcg@6:0.6197,group_auc:0.5484\n",
      "step 20 , total_loss: 1.4578, data_loss: 1.4578\n",
      "eval valid at epoch 3: auc:0.6493,logloss:0.816,mean_mrr:0.5831,ndcg@2:0.507,ndcg@4:0.6476,ndcg@6:0.6866,group_auc:0.6532\n",
      "step 20 , total_loss: 1.2790, data_loss: 1.2790\n",
      "eval valid at epoch 4: auc:0.7018,logloss:0.7818,mean_mrr:0.6176,ndcg@2:0.5572,ndcg@4:0.6838,ndcg@6:0.7131,group_auc:0.6969\n",
      "step 20 , total_loss: 1.3249, data_loss: 1.3249\n",
      "eval valid at epoch 5: auc:0.7208,logloss:0.6877,mean_mrr:0.6466,ndcg@2:0.5921,ndcg@4:0.7101,ndcg@6:0.7349,group_auc:0.722\n",
      "step 20 , total_loss: 1.2396, data_loss: 1.2396\n",
      "eval valid at epoch 6: auc:0.7336,logloss:0.6063,mean_mrr:0.6554,ndcg@2:0.6022,ndcg@4:0.7173,ndcg@6:0.7416,group_auc:0.7298\n",
      "step 20 , total_loss: 1.1432, data_loss: 1.1432\n",
      "eval valid at epoch 7: auc:0.7408,logloss:0.611,mean_mrr:0.6659,ndcg@2:0.614,ndcg@4:0.7267,ndcg@6:0.7494,group_auc:0.7383\n",
      "step 20 , total_loss: 1.1373, data_loss: 1.1373\n",
      "eval valid at epoch 8: auc:0.7454,logloss:0.6499,mean_mrr:0.6721,ndcg@2:0.6216,ndcg@4:0.7334,ndcg@6:0.7541,group_auc:0.7445\n",
      "step 20 , total_loss: 1.1958, data_loss: 1.1958\n",
      "eval valid at epoch 9: auc:0.7536,logloss:0.5951,mean_mrr:0.6715,ndcg@2:0.6222,ndcg@4:0.7323,ndcg@6:0.7537,group_auc:0.7454\n",
      "step 20 , total_loss: 1.1403, data_loss: 1.1403\n",
      "eval valid at epoch 10: auc:0.7553,logloss:0.5822,mean_mrr:0.6753,ndcg@2:0.6254,ndcg@4:0.7357,ndcg@6:0.7566,group_auc:0.7486\n",
      "WARNING:tensorflow:From /home/v-xdeng/.conda/envs/reco_tf15/lib/python3.6/site-packages/tensorflow_core/python/training/saver.py:963: remove_checkpoint (from tensorflow.python.training.checkpoint_management) is deprecated and will be removed in a future version.\n",
      "Instructions for updating:\n",
      "Use standard file APIs to delete files with this prefix.\n",
      "[(1, {'auc': 0.4977, 'logloss': 0.6933, 'mean_mrr': 0.4526, 'ndcg@2': 0.3198, 'ndcg@4': 0.51, 'ndcg@6': 0.5866, 'group_auc': 0.4972}), (2, {'auc': 0.5648, 'logloss': 0.7007, 'mean_mrr': 0.4957, 'ndcg@2': 0.3825, 'ndcg@4': 0.553, 'ndcg@6': 0.6197, 'group_auc': 0.5484}), (3, {'auc': 0.6493, 'logloss': 0.816, 'mean_mrr': 0.5831, 'ndcg@2': 0.507, 'ndcg@4': 0.6476, 'ndcg@6': 0.6866, 'group_auc': 0.6532}), (4, {'auc': 0.7018, 'logloss': 0.7818, 'mean_mrr': 0.6176, 'ndcg@2': 0.5572, 'ndcg@4': 0.6838, 'ndcg@6': 0.7131, 'group_auc': 0.6969}), (5, {'auc': 0.7208, 'logloss': 0.6877, 'mean_mrr': 0.6466, 'ndcg@2': 0.5921, 'ndcg@4': 0.7101, 'ndcg@6': 0.7349, 'group_auc': 0.722}), (6, {'auc': 0.7336, 'logloss': 0.6063, 'mean_mrr': 0.6554, 'ndcg@2': 0.6022, 'ndcg@4': 0.7173, 'ndcg@6': 0.7416, 'group_auc': 0.7298}), (7, {'auc': 0.7408, 'logloss': 0.611, 'mean_mrr': 0.6659, 'ndcg@2': 0.614, 'ndcg@4': 0.7267, 'ndcg@6': 0.7494, 'group_auc': 0.7383}), (8, {'auc': 0.7454, 'logloss': 0.6499, 'mean_mrr': 0.6721, 'ndcg@2': 0.6216, 'ndcg@4': 0.7334, 'ndcg@6': 0.7541, 'group_auc': 0.7445}), (9, {'auc': 0.7536, 'logloss': 0.5951, 'mean_mrr': 0.6715, 'ndcg@2': 0.6222, 'ndcg@4': 0.7323, 'ndcg@6': 0.7537, 'group_auc': 0.7454}), (10, {'auc': 0.7553, 'logloss': 0.5822, 'mean_mrr': 0.6753, 'ndcg@2': 0.6254, 'ndcg@4': 0.7357, 'ndcg@6': 0.7566, 'group_auc': 0.7486})]\n",
      "best epoch: 10\n",
      "Time cost for training is 2.63 mins\n"
     ]
    }
   ],
   "source": [
    "start_time = time.time()\n",
    "model = model.fit(train_file, valid_file, valid_num_ngs=valid_num_ngs) \n",
    "# valid_num_ngs is the number of negative lines after each positive line in your valid_file \n",
    "# we will evaluate the performance of model on valid_file every epoch\n",
    "end_time = time.time()\n",
    "print('Time cost for training is {0:.2f} mins'.format((end_time-start_time)/60.0))"
   ]
  },
  {
   "cell_type": "markdown",
   "metadata": {},
   "source": [
    "#### 2.2  Evaluate model\n",
    "\n",
    "Again, let's see what is the model's performance now (after training):"
   ]
  },
  {
   "cell_type": "code",
   "execution_count": 10,
   "metadata": {},
   "outputs": [
    {
     "name": "stdout",
     "output_type": "stream",
     "text": [
      "{'auc': 0.7249, 'logloss': 0.5924, 'mean_mrr': 0.4946, 'ndcg@2': 0.4075, 'ndcg@4': 0.5107, 'ndcg@6': 0.5607, 'group_auc': 0.7133}\n"
     ]
    },
    {
     "name": "stderr",
     "output_type": "stream",
     "text": [
      "/home/v-xdeng/.conda/envs/reco_tf15/lib/python3.6/site-packages/ipykernel_launcher.py:3: DeprecationWarning: Function record is deprecated and will be removed in verison 1.0.0 (current version 0.19.1). Please see `scrapbook.glue` (nteract-scrapbook) as a replacement for this functionality.\n",
      "  This is separate from the ipykernel package so we can avoid doing imports until\n"
     ]
    },
    {
     "data": {
      "application/papermill.record+json": {
       "res_syn": {
        "auc": 0.7249,
        "group_auc": 0.7133,
        "logloss": 0.5924,
        "mean_mrr": 0.4946,
        "ndcg@2": 0.4075,
        "ndcg@4": 0.5107,
        "ndcg@6": 0.5607
       }
      }
     },
     "metadata": {},
     "output_type": "display_data"
    }
   ],
   "source": [
    "res_syn = model.run_eval(test_file, num_ngs=test_num_ngs)\n",
    "print(res_syn)\n",
    "sb.glue(\"res_syn\", res_syn)"
   ]
  },
  {
   "cell_type": "markdown",
   "metadata": {},
   "source": [
    "If we want to get the full prediction scores rather than evaluation metrics, we can do this:"
   ]
  },
  {
   "cell_type": "code",
   "execution_count": 11,
   "metadata": {},
   "outputs": [
    {
     "name": "stdout",
     "output_type": "stream",
     "text": [
      "WARNING:tensorflow:From ../../reco_utils/recommender/deeprec/models/sequential/sequential_base_model.py:231: The name tf.gfile.GFile is deprecated. Please use tf.io.gfile.GFile instead.\n",
      "\n"
     ]
    }
   ],
   "source": [
    "model = model.predict(test_file, output_file)"
   ]
  },
  {
   "cell_type": "code",
   "execution_count": 12,
   "metadata": {},
   "outputs": [],
   "source": [
    "# The data was downloaded in tmpdir folder. You can delete them manually if you do not need them any more."
   ]
  },
  {
   "cell_type": "markdown",
   "metadata": {},
   "source": [
    "#### 2.3  Running models with large dataset\n",
    "Here are performances using the whole amazon dataset among popular sequential models with 1,697,533 positive instances.\n",
    "<br>Settings for reproducing the results:\n",
    "<br>`learning_rate=0.001, dropout=0.3, item_embedding_dim=32, cate_embedding_dim=8, l2_norm=0, batch_size=400, \n",
    "train_num_ngs=4, valid_num_ngs=4, test_num_ngs=49`\n",
    "\n",
    "\n",
    "We compare the running time with CPU only and with GPU on the larger dataset. It appears that GPU can significantly accelerate the training. Hardware specification for running the large dataset: \n",
    "<br>GPU: Tesla P100-PCIE-16GB\n",
    "<br>CPU: 6 cores Intel(R) Xeon(R) CPU E5-2690 v4 @ 2.60GHz\n",
    " \n",
    "| Models | AUC | g-AUC | NDCG@2 | NDCG@10 | seconds per epoch on GPU | seconds per epoch on CPU| config |\n",
    "| :------| :------: | :------: | :------: | :------: | :------: | :------: | :------ |\n",
    "| A2SVD | 0.8251 | 0.8178 | 0.2922 | 0.4264 | 249.5 | 440.0 | N/A |\n",
    "| GRU4Rec | 0.8411 | 0.8332 | 0.3213 | 0.4547 | 439.0 | 4285.0 | max_seq_length=50, hidden_size=40|\n",
    "| Caser | 0.8244 | 0.8171 | 0.283 | 0.4194 | 314.3 | 5369.9 | T=1, n_v=128, n_h=128, L=3, min_seq_length=5|\n",
    "| SLi_Rec | 0.8631 | 0.8519 | 0.3491 | 0.4842 | 549.6 | 5014.0 | attention_size=40, max_seq_length=50, hidden_size=40|\n",
    "| NextItNet* | 0.6793 | 0.6769 | 0.0602 | 0.1733 | 112.0 | 214.5 | min_seq_length=3, dilations=\\[1,2,4,1,2,4\\], kernel_size=3 |\n",
    "\n",
    " Note 1: The five models are grid searched with a coarse granularity and the results are for reference only.\n",
    " <br>Note 2: NextItNet model requires a dataset with strong sequence property, but the Amazon dataset used in this notebook does not meet that requirement, so NextItNet Model may not performance good. If you wish to use other datasets with strong sequence property, NextItNet is recommended.\n",
    " <br>Note 3: Time cost of NextItNet Model is significantly shorter than other models because it doesn't need a history expanding of training data."
   ]
  },
  {
   "cell_type": "markdown",
   "metadata": {},
   "source": [
    "## 3. Online serving\n",
    "In this section, we provide a simple example to illustrate how we can use the trained model to serve for production demand.\n",
    "\n",
    "Suppose we are in a new session. First let's load a previous trained model:"
   ]
  },
  {
   "cell_type": "code",
   "execution_count": 13,
   "metadata": {},
   "outputs": [
    {
     "name": "stdout",
     "output_type": "stream",
     "text": [
      "loading saved model in ../../tests/resources/deeprec/slirec/model/best_model\n",
      "INFO:tensorflow:Restoring parameters from ../../tests/resources/deeprec/slirec/model/best_model\n"
     ]
    }
   ],
   "source": [
    "model_best_trained = SeqModel(hparams, input_creator, seed=RANDOM_SEED)\n",
    "path_best_trained = os.path.join(hparams.MODEL_DIR, \"best_model\")\n",
    "print('loading saved model in {0}'.format(path_best_trained))\n",
    "model_best_trained.load_model(path_best_trained)\n"
   ]
  },
  {
   "cell_type": "markdown",
   "metadata": {},
   "source": [
    "Let's see if we load the model correctly. The testing metrics should be close to the numbers we have in the training stage."
   ]
  },
  {
   "cell_type": "code",
   "execution_count": 14,
   "metadata": {},
   "outputs": [
    {
     "data": {
      "text/plain": [
       "{'auc': 0.7249,\n",
       " 'logloss': 0.5924,\n",
       " 'mean_mrr': 0.4946,\n",
       " 'ndcg@2': 0.4075,\n",
       " 'ndcg@4': 0.5107,\n",
       " 'ndcg@6': 0.5607,\n",
       " 'group_auc': 0.7133}"
      ]
     },
     "execution_count": 14,
     "metadata": {},
     "output_type": "execute_result"
    }
   ],
   "source": [
    "model_best_trained.run_eval(test_file, num_ngs=test_num_ngs)"
   ]
  },
  {
   "cell_type": "markdown",
   "metadata": {},
   "source": [
    "And we make predictions using this model. In the next step, we will make predictions using a serving model. Then we can check if the two result files are consistent."
   ]
  },
  {
   "cell_type": "code",
   "execution_count": 15,
   "metadata": {},
   "outputs": [
    {
     "data": {
      "text/plain": [
       "<reco_utils.recommender.deeprec.models.sequential.sli_rec.SLI_RECModel at 0x7f2da0326e80>"
      ]
     },
     "execution_count": 15,
     "metadata": {},
     "output_type": "execute_result"
    }
   ],
   "source": [
    "model_best_trained.predict(test_file, output_file)"
   ]
  },
  {
   "cell_type": "markdown",
   "metadata": {},
   "source": [
    "Exciting. Now let's start our quick journey of online serving. \n",
    "\n",
    "For efficient and flexible serving, usually we only keep the necessary computation nodes and froze the TF model to a single pb file, so that we can easily compute scores with this unified pb file in both Python or Java:"
   ]
  },
  {
   "cell_type": "code",
   "execution_count": 16,
   "metadata": {},
   "outputs": [
    {
     "name": "stdout",
     "output_type": "stream",
     "text": [
      "WARNING:tensorflow:From <ipython-input-16-dd62857b20ba>:6: convert_variables_to_constants (from tensorflow.python.framework.graph_util_impl) is deprecated and will be removed in a future version.\n",
      "Instructions for updating:\n",
      "Use `tf.compat.v1.graph_util.convert_variables_to_constants`\n",
      "WARNING:tensorflow:From /home/v-xdeng/.conda/envs/reco_tf15/lib/python3.6/site-packages/tensorflow_core/python/framework/graph_util_impl.py:277: extract_sub_graph (from tensorflow.python.framework.graph_util_impl) is deprecated and will be removed in a future version.\n",
      "Instructions for updating:\n",
      "Use `tf.compat.v1.graph_util.extract_sub_graph`\n",
      "INFO:tensorflow:Froze 61 variables.\n",
      "INFO:tensorflow:Converted 61 variables to const ops.\n"
     ]
    }
   ],
   "source": [
    "\n",
    "with model_best_trained.sess as sess:\n",
    "    graph_def = model_best_trained.graph.as_graph_def()\n",
    "    output_graph_def = tf.graph_util.convert_variables_to_constants(\n",
    "        sess,\n",
    "        graph_def,\n",
    "        [\"pred\"]\n",
    "    )\n",
    "\n",
    "    outfilepath = os.path.join(hparams.MODEL_DIR, \"serving_model.pb\")\n",
    "    with tf.gfile.GFile(outfilepath, 'wb') as f:\n",
    "        f.write(output_graph_def.SerializeToString())\n",
    "\n"
   ]
  },
  {
   "cell_type": "markdown",
   "metadata": {},
   "source": [
    "The serving logic is as simple as feeding the feature values to the corresponding input nodes, and fetch the score from the output node. \n",
    "\n",
    "In our model, input nodes are some placeholders and control variables (such as is_training, layer_keeps). We can get the nodes by their name:"
   ]
  },
  {
   "cell_type": "code",
   "execution_count": 17,
   "metadata": {},
   "outputs": [],
   "source": [
    "class LoadFrozedPredModel:\n",
    "    def __init__(self, graph):\n",
    "        self.pred = graph.get_tensor_by_name('import/pred:0') \n",
    "        self.items = graph.get_tensor_by_name('import/items:0') \n",
    "        self.cates = graph.get_tensor_by_name('import/cates:0') \n",
    "        self.item_history = graph.get_tensor_by_name('import/item_history:0') \n",
    "        self.item_cate_history = graph.get_tensor_by_name('import/item_cate_history:0') \n",
    "        self.mask = graph.get_tensor_by_name('import/mask:0')  \n",
    "        self.time_from_first_action = graph.get_tensor_by_name('import/time_from_first_action:0') \n",
    "        self.time_to_now = graph.get_tensor_by_name('import/time_to_now:0') \n",
    "        self.layer_keeps = graph.get_tensor_by_name('import/layer_keeps:0') \n",
    "        self.is_training = graph.get_tensor_by_name('import/is_training:0') \n"
   ]
  },
  {
   "cell_type": "code",
   "execution_count": 18,
   "metadata": {},
   "outputs": [],
   "source": [
    "def infer_as_serving(model, infile, outfile, hparams, iterator, sess):\n",
    "    preds = []\n",
    "    \n",
    "    for batch_data_input in iterator.load_data_from_file(infile, batch_num_ngs=0):\n",
    "        if batch_data_input:\n",
    "            feed_dict = {\n",
    "                model.layer_keeps:np.ones(3, dtype=np.float32),\n",
    "                model.is_training:False,\n",
    "                model.items: batch_data_input[iterator.items],\n",
    "                model.cates: batch_data_input[iterator.cates],\n",
    "                model.item_history: batch_data_input[iterator.item_history],\n",
    "                model.item_cate_history: batch_data_input[iterator.item_cate_history],\n",
    "                model.mask: batch_data_input[iterator.mask],\n",
    "                model.time_from_first_action: batch_data_input[iterator.time_from_first_action],\n",
    "                model.time_to_now: batch_data_input[iterator.time_to_now]\n",
    "            }\n",
    "            step_pred = sess.run(model.pred, feed_dict=feed_dict)\n",
    "            preds.extend(np.reshape(step_pred, -1))\n",
    "                \n",
    "    with open(outfile, \"w\") as wt:\n",
    "        for line in preds:\n",
    "            wt.write('{0}\\n'.format(line))\n",
    "            "
   ]
  },
  {
   "cell_type": "markdown",
   "metadata": {},
   "source": [
    "Here is the main pipeline for inferring in an online serving manner. You can compare the 'output_serving.txt' with 'output.txt' to see if the results are consistent.\n",
    "\n",
    "The input file format is the same as introduced in Section 1 'Input data format'. In serving stage, since we do not need a groundtrue lable, so for the label column, you can simply place any number like a zero. The iterator will parse the input file and convert into the required format for model's feed_dictionary. "
   ]
  },
  {
   "cell_type": "code",
   "execution_count": 19,
   "metadata": {},
   "outputs": [],
   "source": [
    "G = tf.Graph()\n",
    "with tf.gfile.GFile(\n",
    "        os.path.join(hparams.MODEL_DIR, \"serving_model.pb\"),\n",
    "        'rb'\n",
    ") as f, G.as_default():\n",
    "    graph_def_optimized = tf.GraphDef()\n",
    "    graph_def_optimized.ParseFromString(f.read())\n",
    "    \n",
    "    ####  uncomment this line if you want to check what conent is included in the graph\n",
    "    #print('graph_def_optimized = ' + str(graph_def_optimized))\n",
    "\n",
    "\n",
    "with tf.Session(graph=G) as sess:\n",
    "    tf.import_graph_def(graph_def_optimized)\n",
    "\n",
    "    model = LoadFrozedPredModel(sess.graph)\n",
    "    \n",
    "    serving_output_file = os.path.join(data_path, r'output_serving.txt')  \n",
    "    iterator = input_creator(hparams, tf.Graph())\n",
    "    infer_as_serving(model, test_file, serving_output_file, hparams, iterator, sess)\n",
    "    "
   ]
  },
  {
   "cell_type": "markdown",
   "metadata": {},
   "source": [
    "## Reference\n",
    "\\[1\\] Zeping Yu, Jianxun Lian, Ahmad Mahmoody, Gongshen Liu, Xing Xie. Adaptive User Modeling with Long and Short-Term Preferences for Personailzed Recommendation. In Proceedings of the 28th International Joint Conferences on Artificial Intelligence, IJCAI’19, Pages 4213-4219. AAAI Press, 2019.\n",
    "\n",
    "\\[2\\] Balázs Hidasi, Alexandros Karatzoglou, Linas Baltrunas, Domonkos Tikk. Session-based Recommendations with Recurrent Neural Networks. ICLR (Poster) 2016\n",
    "\n",
    "\\[3\\] Tang, Jiaxi, and Ke Wang. Personalized top-n sequential recommendation via convolutional sequence embedding. Proceedings of the Eleventh ACM International Conference on Web Search and Data Mining. ACM, 2018.\n",
    "\n",
    "\\[4\\] Yuan, F., Karatzoglou, A., Arapakis, I., Jose, J. M., & He, X. A Simple Convolutional Generative Network for Next Item Recommendation. WSDM, 2019"
   ]
  }
 ],
 "metadata": {
  "celltoolbar": "Tags",
  "kernelspec": {
   "display_name": "reco_tf15",
   "language": "python",
   "name": "reco_tf15"
  },
  "language_info": {
   "codemirror_mode": {
    "name": "ipython",
    "version": 3
   },
   "file_extension": ".py",
   "mimetype": "text/x-python",
   "name": "python",
   "nbconvert_exporter": "python",
   "pygments_lexer": "ipython3",
   "version": "3.6.8"
  }
 },
 "nbformat": 4,
 "nbformat_minor": 2
}