{
 "cells": [
  {
   "cell_type": "markdown",
   "metadata": {},
   "source": [
    "<i>Copyright (c) Microsoft Corporation. All rights reserved.</i>\n",
    "\n",
    "<i>Licensed under the MIT License.</i>"
   ]
  },
  {
   "cell_type": "markdown",
   "metadata": {},
   "source": [
    "# TF-IDF Content-Based Recommendation on the COVID-19 Open Research Dataset\n",
    "This demonstrates a simple implementation of Term Frequency Inverse Document Frequency (TF-IDF) content-based recommendation on the [COVID-19 Open Research Dataset](https://azure.microsoft.com/en-us/services/open-datasets/catalog/covid-19-open-research/), hosted through Azure Open Datasets.\n",
    "\n",
    "In this notebook, we will create a recommender which will return the top k recommended articles similar to any article of interest (query item) in the COVID-19 Open Reserach Dataset."
   ]
  },
  {
   "cell_type": "code",
   "execution_count": 1,
   "metadata": {
    "scrolled": true
   },
   "outputs": [
    {
     "name": "stdout",
     "output_type": "stream",
     "text": [
      "System version: 3.7.5 (default, Oct 31 2019, 15:18:51) [MSC v.1916 64 bit (AMD64)]\n"
     ]
    }
   ],
   "source": [
    "# Set the environment path to find Recommenders\n",
    "import sys\n",
    "sys.path.append(\"../../\")\n",
    "\n",
    "# Import functions\n",
    "from reco_utils.dataset import covid_utils\n",
    "from reco_utils.recommender.tfidf.tfidf_utils import TfidfRecommender\n",
    "\n",
    "# Print version\n",
    "print(\"System version: {}\".format(sys.version))"
   ]
  },
  {
   "cell_type": "markdown",
   "metadata": {},
   "source": [
    "### 1. Load the dataset into a dataframe\n",
    "Let's begin by loading the metadata file for the dataset into a Pandas dataframe. This file contains metadata about each of the scientific articles included in the full dataset."
   ]
  },
  {
   "cell_type": "code",
   "execution_count": 2,
   "metadata": {},
   "outputs": [],
   "source": [
    "# Specify container and metadata filename\n",
    "container_name = 'covid19temp'\n",
    "metadata_filename = 'metadata.csv'\n",
    "\n",
    "# Get metadata (may take around 1-2 min)\n",
    "metadata, blob_service = covid_utils.load_pandas_df(container_name=container_name, metadata_filename=metadata_filename)"
   ]
  },
  {
   "cell_type": "markdown",
   "metadata": {},
   "source": [
    "### 2. Extract articles in the public domain\n",
    "The dataset contains articles using a variety of licenses. We will only be using articles that fall under the public domain ([cc0](https://creativecommons.org/publicdomain/zero/1.0/))."
   ]
  },
  {
   "cell_type": "code",
   "execution_count": 3,
   "metadata": {},
   "outputs": [
    {
     "data": {
      "text/plain": [
       "<matplotlib.axes._subplots.AxesSubplot at 0x204148bb748>"
      ]
     },
     "execution_count": 3,
     "metadata": {},
     "output_type": "execute_result"
    },
    {
     "data": {
      "image/png": "[encoded data removed]",
      "text/plain": [
       "<Figure size 432x288 with 1 Axes>"
      ]
     },
     "metadata": {
      "needs_background": "light"
     },
     "output_type": "display_data"
    }
   ],
   "source": [
    "# View distribution of license types in the dataset\n",
    "metadata['license'].value_counts().plot(kind='bar', title='License')"
   ]
  },
  {
   "cell_type": "code",
   "execution_count": 4,
   "metadata": {},
   "outputs": [],
   "source": [
    "# Extract metadata on public domain articles only\n",
    "metadata_public = metadata.loc[metadata['license']=='cc0']\n",
    "\n",
    "# Clean dataframe\n",
    "metadata_public = covid_utils.clean_dataframe(metadata_public)"
   ]
  },
  {
   "cell_type": "markdown",
   "metadata": {},
   "source": [
    "Let's look at the top few rows of this dataframe which contains metadata on public domain articles."
   ]
  },
  {
   "cell_type": "code",
   "execution_count": 5,
   "metadata": {},
   "outputs": [
    {
     "name": "stdout",
     "output_type": "stream",
     "text": [
      "Number of articles in dataset: 52398\n",
      "Number of articles in dataset that fall under the public domain (cc0): 258\n"
     ]
    },
    {
     "data": {
      "text/html": [
       "<div>\n",
       "<style scoped>\n",
       "    .dataframe tbody tr th:only-of-type {\n",
       "        vertical-align: middle;\n",
       "    }\n",
       "\n",
       "    .dataframe tbody tr th {\n",
       "        vertical-align: top;\n",
       "    }\n",
       "\n",
       "    .dataframe thead th {\n",
       "        text-align: right;\n",
       "    }\n",
       "</style>\n",
       "<table border=\"1\" class=\"dataframe\">\n",
       "  <thead>\n",
       "    <tr style=\"text-align: right;\">\n",
       "      <th></th>\n",
       "      <th>cord_uid</th>\n",
       "      <th>sha</th>\n",
       "      <th>source_x</th>\n",
       "      <th>title</th>\n",
       "      <th>doi</th>\n",
       "      <th>pmcid</th>\n",
       "      <th>pubmed_id</th>\n",
       "      <th>license</th>\n",
       "      <th>abstract</th>\n",
       "      <th>publish_time</th>\n",
       "      <th>authors</th>\n",
       "      <th>journal</th>\n",
       "      <th>Microsoft Academic Paper ID</th>\n",
       "      <th>WHO #Covidence</th>\n",
       "      <th>has_pdf_parse</th>\n",
       "      <th>has_pmc_xml_parse</th>\n",
       "      <th>full_text_file</th>\n",
       "      <th>url</th>\n",
       "    </tr>\n",
       "  </thead>\n",
       "  <tbody>\n",
       "    <tr>\n",
       "      <th>0</th>\n",
       "      <td>ej795nks</td>\n",
       "      <td>a3c3b7c38ad32e1042d78aae2027ca491e9f2197</td>\n",
       "      <td>PMC</td>\n",
       "      <td>Understanding the Spatial Clustering of Severe...</td>\n",
       "      <td>10.1289/ehp.7117</td>\n",
       "      <td>PMC1247620</td>\n",
       "      <td>15531441.0</td>\n",
       "      <td>cc0</td>\n",
       "      <td>We applied cartographic and geostatistical met...</td>\n",
       "      <td>2004-07-27</td>\n",
       "      <td>Lai, P.C.; Wong, C.M.; Hedley, A.J.; Lo, S.V.;...</td>\n",
       "      <td>Environ Health Perspect</td>\n",
       "      <td>NaN</td>\n",
       "      <td>NaN</td>\n",
       "      <td>True</td>\n",
       "      <td>True</td>\n",
       "      <td>comm_use_subset</td>\n",
       "      <td>https://www.ncbi.nlm.nih.gov/pmc/articles/PMC1...</td>\n",
       "    </tr>\n",
       "    <tr>\n",
       "      <th>1</th>\n",
       "      <td>9mzs5dl4</td>\n",
       "      <td>c1c6a98c21304f3788b20870b34afd8a115fa38c</td>\n",
       "      <td>PMC</td>\n",
       "      <td>The Application of the Haddon Matrix to Public...</td>\n",
       "      <td>10.1289/ehp.7491</td>\n",
       "      <td>PMC1257548</td>\n",
       "      <td>15866764.0</td>\n",
       "      <td>cc0</td>\n",
       "      <td>State and local health departments continue to...</td>\n",
       "      <td>2005-02-02</td>\n",
       "      <td>Barnett, Daniel J.; Balicer, Ran D.; Blodgett,...</td>\n",
       "      <td>Environ Health Perspect</td>\n",
       "      <td>NaN</td>\n",
       "      <td>NaN</td>\n",
       "      <td>True</td>\n",
       "      <td>True</td>\n",
       "      <td>comm_use_subset</td>\n",
       "      <td>https://www.ncbi.nlm.nih.gov/pmc/articles/PMC1...</td>\n",
       "    </tr>\n",
       "    <tr>\n",
       "      <th>2</th>\n",
       "      <td>u7lz3spe</td>\n",
       "      <td>c56ffdaf1cfbae5a6ed0abea495eaf7fa1cbc031</td>\n",
       "      <td>PMC</td>\n",
       "      <td>Cynomolgus Macaque as an Animal Model for Seve...</td>\n",
       "      <td>10.1371/journal.pmed.0030149</td>\n",
       "      <td>PMC1435788</td>\n",
       "      <td>16605302.0</td>\n",
       "      <td>cc0</td>\n",
       "      <td>BACKGROUND: The emergence of severe acute resp...</td>\n",
       "      <td>2006-04-18</td>\n",
       "      <td>Lawler, James V; Endy, Timothy P; Hensley, Lis...</td>\n",
       "      <td>PLoS Med</td>\n",
       "      <td>NaN</td>\n",
       "      <td>NaN</td>\n",
       "      <td>True</td>\n",
       "      <td>True</td>\n",
       "      <td>comm_use_subset</td>\n",
       "      <td>https://www.ncbi.nlm.nih.gov/pmc/articles/PMC1...</td>\n",
       "    </tr>\n",
       "    <tr>\n",
       "      <th>3</th>\n",
       "      <td>na7z92i8</td>\n",
       "      <td>f38f3b112e4b702b60ba56be806d418bbb2b83c3</td>\n",
       "      <td>PMC</td>\n",
       "      <td>Immune Protection of Nonhuman Primates against...</td>\n",
       "      <td>10.1371/journal.pmed.0030177</td>\n",
       "      <td>PMC1459482</td>\n",
       "      <td>16683867.0</td>\n",
       "      <td>cc0</td>\n",
       "      <td>BACKGROUND: Ebola virus causes a hemorrhagic f...</td>\n",
       "      <td>2006-05-16</td>\n",
       "      <td>Sullivan, Nancy J; Geisbert, Thomas W; Geisber...</td>\n",
       "      <td>PLoS Med</td>\n",
       "      <td>NaN</td>\n",
       "      <td>NaN</td>\n",
       "      <td>True</td>\n",
       "      <td>True</td>\n",
       "      <td>comm_use_subset</td>\n",
       "      <td>https://www.ncbi.nlm.nih.gov/pmc/articles/PMC1...</td>\n",
       "    </tr>\n",
       "    <tr>\n",
       "      <th>4</th>\n",
       "      <td>j35w1vsw</td>\n",
       "      <td>5dc0b8b662824323881c3a1ae3a1bae2a821484d</td>\n",
       "      <td>PMC</td>\n",
       "      <td>SARS: Systematic Review of Treatment Effects</td>\n",
       "      <td>10.1371/journal.pmed.0030343</td>\n",
       "      <td>PMC1564166</td>\n",
       "      <td>16968120.0</td>\n",
       "      <td>cc0</td>\n",
       "      <td>BACKGROUND: The SARS outbreak of 2002–2003 pre...</td>\n",
       "      <td>2006-09-12</td>\n",
       "      <td>Stockman, Lauren J; Bellamy, Richard; Garner, ...</td>\n",
       "      <td>PLoS Med</td>\n",
       "      <td>NaN</td>\n",
       "      <td>NaN</td>\n",
       "      <td>True</td>\n",
       "      <td>True</td>\n",
       "      <td>comm_use_subset</td>\n",
       "      <td>https://www.ncbi.nlm.nih.gov/pmc/articles/PMC1...</td>\n",
       "    </tr>\n",
       "  </tbody>\n",
       "</table>\n",
       "</div>"
      ],
      "text/plain": [
       "   cord_uid                                       sha source_x  \\\n",
       "0  ej795nks  a3c3b7c38ad32e1042d78aae2027ca491e9f2197      PMC   \n",
       "1  9mzs5dl4  c1c6a98c21304f3788b20870b34afd8a115fa38c      PMC   \n",
       "2  u7lz3spe  c56ffdaf1cfbae5a6ed0abea495eaf7fa1cbc031      PMC   \n",
       "3  na7z92i8  f38f3b112e4b702b60ba56be806d418bbb2b83c3      PMC   \n",
       "4  j35w1vsw  5dc0b8b662824323881c3a1ae3a1bae2a821484d      PMC   \n",
       "\n",
       "                                               title  \\\n",
       "0  Understanding the Spatial Clustering of Severe...   \n",
       "1  The Application of the Haddon Matrix to Public...   \n",
       "2  Cynomolgus Macaque as an Animal Model for Seve...   \n",
       "3  Immune Protection of Nonhuman Primates against...   \n",
       "4       SARS: Systematic Review of Treatment Effects   \n",
       "\n",
       "                            doi       pmcid   pubmed_id license  \\\n",
       "0              10.1289/ehp.7117  PMC1247620  15531441.0     cc0   \n",
       "1              10.1289/ehp.7491  PMC1257548  15866764.0     cc0   \n",
       "2  10.1371/journal.pmed.0030149  PMC1435788  16605302.0     cc0   \n",
       "3  10.1371/journal.pmed.0030177  PMC1459482  16683867.0     cc0   \n",
       "4  10.1371/journal.pmed.0030343  PMC1564166  16968120.0     cc0   \n",
       "\n",
       "                                            abstract publish_time  \\\n",
       "0  We applied cartographic and geostatistical met...   2004-07-27   \n",
       "1  State and local health departments continue to...   2005-02-02   \n",
       "2  BACKGROUND: The emergence of severe acute resp...   2006-04-18   \n",
       "3  BACKGROUND: Ebola virus causes a hemorrhagic f...   2006-05-16   \n",
       "4  BACKGROUND: The SARS outbreak of 2002–2003 pre...   2006-09-12   \n",
       "\n",
       "                                             authors                  journal  \\\n",
       "0  Lai, P.C.; Wong, C.M.; Hedley, A.J.; Lo, S.V.;...  Environ Health Perspect   \n",
       "1  Barnett, Daniel J.; Balicer, Ran D.; Blodgett,...  Environ Health Perspect   \n",
       "2  Lawler, James V; Endy, Timothy P; Hensley, Lis...                 PLoS Med   \n",
       "3  Sullivan, Nancy J; Geisbert, Thomas W; Geisber...                 PLoS Med   \n",
       "4  Stockman, Lauren J; Bellamy, Richard; Garner, ...                 PLoS Med   \n",
       "\n",
       "   Microsoft Academic Paper ID WHO #Covidence  has_pdf_parse  \\\n",
       "0                          NaN            NaN           True   \n",
       "1                          NaN            NaN           True   \n",
       "2                          NaN            NaN           True   \n",
       "3                          NaN            NaN           True   \n",
       "4                          NaN            NaN           True   \n",
       "\n",
       "   has_pmc_xml_parse   full_text_file  \\\n",
       "0               True  comm_use_subset   \n",
       "1               True  comm_use_subset   \n",
       "2               True  comm_use_subset   \n",
       "3               True  comm_use_subset   \n",
       "4               True  comm_use_subset   \n",
       "\n",
       "                                                 url  \n",
       "0  https://www.ncbi.nlm.nih.gov/pmc/articles/PMC1...  \n",
       "1  https://www.ncbi.nlm.nih.gov/pmc/articles/PMC1...  \n",
       "2  https://www.ncbi.nlm.nih.gov/pmc/articles/PMC1...  \n",
       "3  https://www.ncbi.nlm.nih.gov/pmc/articles/PMC1...  \n",
       "4  https://www.ncbi.nlm.nih.gov/pmc/articles/PMC1...  "
      ]
     },
     "execution_count": 5,
     "metadata": {},
     "output_type": "execute_result"
    }
   ],
   "source": [
    "# Preview metadata for public domain articles\n",
    "print('Number of articles in dataset: ' + str(len(metadata)))\n",
    "print('Number of articles in dataset that fall under the public domain (cc0): ' + str(len(metadata_public)))\n",
    "metadata_public.head()"
   ]
  },
  {
   "cell_type": "markdown",
   "metadata": {},
   "source": [
    "### 3. Retrieve full article text\n",
    "Now that we have the metadata for the public domain articles as its own dataframe, let's retrieve the full text for each public domain scientific article."
   ]
  },
  {
   "cell_type": "code",
   "execution_count": 6,
   "metadata": {},
   "outputs": [],
   "source": [
    "# Extract text from all public domain articles (may take 2-3 min)\n",
    "all_text = covid_utils.get_public_domain_text(metadata_public, blob_service, container_name)"
   ]
  },
  {
   "cell_type": "markdown",
   "metadata": {},
   "source": [
    "Notice that **all_text** is the same as **metadata_public** but now has an additional column called **full_text** which contains the full text for each respective article."
   ]
  },
  {
   "cell_type": "code",
   "execution_count": 7,
   "metadata": {},
   "outputs": [
    {
     "data": {
      "text/html": [
       "<div>\n",
       "<style scoped>\n",
       "    .dataframe tbody tr th:only-of-type {\n",
       "        vertical-align: middle;\n",
       "    }\n",
       "\n",
       "    .dataframe tbody tr th {\n",
       "        vertical-align: top;\n",
       "    }\n",
       "\n",
       "    .dataframe thead th {\n",
       "        text-align: right;\n",
       "    }\n",
       "</style>\n",
       "<table border=\"1\" class=\"dataframe\">\n",
       "  <thead>\n",
       "    <tr style=\"text-align: right;\">\n",
       "      <th></th>\n",
       "      <th>index</th>\n",
       "      <th>cord_uid</th>\n",
       "      <th>doi</th>\n",
       "      <th>title</th>\n",
       "      <th>publish_time</th>\n",
       "      <th>authors</th>\n",
       "      <th>journal</th>\n",
       "      <th>url</th>\n",
       "      <th>abstract</th>\n",
       "      <th>full_text</th>\n",
       "    </tr>\n",
       "  </thead>\n",
       "  <tbody>\n",
       "    <tr>\n",
       "      <th>0</th>\n",
       "      <td>0</td>\n",
       "      <td>ej795nks</td>\n",
       "      <td>10.1289/ehp.7117</td>\n",
       "      <td>Understanding the Spatial Clustering of Severe...</td>\n",
       "      <td>2004-07-27</td>\n",
       "      <td>Lai, P.C.; Wong, C.M.; Hedley, A.J.; Lo, S.V.;...</td>\n",
       "      <td>Environ Health Perspect</td>\n",
       "      <td>https://www.ncbi.nlm.nih.gov/pmc/articles/PMC1...</td>\n",
       "      <td>We applied cartographic and geostatistical met...</td>\n",
       "      <td>Since the emergence and rapid spread of the et...</td>\n",
       "    </tr>\n",
       "    <tr>\n",
       "      <th>1</th>\n",
       "      <td>1</td>\n",
       "      <td>9mzs5dl4</td>\n",
       "      <td>10.1289/ehp.7491</td>\n",
       "      <td>The Application of the Haddon Matrix to Public...</td>\n",
       "      <td>2005-02-02</td>\n",
       "      <td>Barnett, Daniel J.; Balicer, Ran D.; Blodgett,...</td>\n",
       "      <td>Environ Health Perspect</td>\n",
       "      <td>https://www.ncbi.nlm.nih.gov/pmc/articles/PMC1...</td>\n",
       "      <td>State and local health departments continue to...</td>\n",
       "      <td>sudden fever and dry cough, along with chills ...</td>\n",
       "    </tr>\n",
       "    <tr>\n",
       "      <th>2</th>\n",
       "      <td>2</td>\n",
       "      <td>u7lz3spe</td>\n",
       "      <td>10.1371/journal.pmed.0030149</td>\n",
       "      <td>Cynomolgus Macaque as an Animal Model for Seve...</td>\n",
       "      <td>2006-04-18</td>\n",
       "      <td>Lawler, James V; Endy, Timothy P; Hensley, Lis...</td>\n",
       "      <td>PLoS Med</td>\n",
       "      <td>https://www.ncbi.nlm.nih.gov/pmc/articles/PMC1...</td>\n",
       "      <td>BACKGROUND: The emergence of severe acute resp...</td>\n",
       "      <td>The emergence of severe acute respiratory synd...</td>\n",
       "    </tr>\n",
       "    <tr>\n",
       "      <th>3</th>\n",
       "      <td>3</td>\n",
       "      <td>na7z92i8</td>\n",
       "      <td>10.1371/journal.pmed.0030177</td>\n",
       "      <td>Immune Protection of Nonhuman Primates against...</td>\n",
       "      <td>2006-05-16</td>\n",
       "      <td>Sullivan, Nancy J; Geisbert, Thomas W; Geisber...</td>\n",
       "      <td>PLoS Med</td>\n",
       "      <td>https://www.ncbi.nlm.nih.gov/pmc/articles/PMC1...</td>\n",
       "      <td>BACKGROUND: Ebola virus causes a hemorrhagic f...</td>\n",
       "      <td>Background Ebola virus causes a hemorrhagic fe...</td>\n",
       "    </tr>\n",
       "    <tr>\n",
       "      <th>4</th>\n",
       "      <td>4</td>\n",
       "      <td>j35w1vsw</td>\n",
       "      <td>10.1371/journal.pmed.0030343</td>\n",
       "      <td>SARS: Systematic Review of Treatment Effects</td>\n",
       "      <td>2006-09-12</td>\n",
       "      <td>Stockman, Lauren J; Bellamy, Richard; Garner, ...</td>\n",
       "      <td>PLoS Med</td>\n",
       "      <td>https://www.ncbi.nlm.nih.gov/pmc/articles/PMC1...</td>\n",
       "      <td>BACKGROUND: The SARS outbreak of 2002–2003 pre...</td>\n",
       "      <td>The SARS outbreak of 2002-2003 presented clini...</td>\n",
       "    </tr>\n",
       "  </tbody>\n",
       "</table>\n",
       "</div>"
      ],
      "text/plain": [
       "   index  cord_uid                           doi  \\\n",
       "0      0  ej795nks              10.1289/ehp.7117   \n",
       "1      1  9mzs5dl4              10.1289/ehp.7491   \n",
       "2      2  u7lz3spe  10.1371/journal.pmed.0030149   \n",
       "3      3  na7z92i8  10.1371/journal.pmed.0030177   \n",
       "4      4  j35w1vsw  10.1371/journal.pmed.0030343   \n",
       "\n",
       "                                               title publish_time  \\\n",
       "0  Understanding the Spatial Clustering of Severe...   2004-07-27   \n",
       "1  The Application of the Haddon Matrix to Public...   2005-02-02   \n",
       "2  Cynomolgus Macaque as an Animal Model for Seve...   2006-04-18   \n",
       "3  Immune Protection of Nonhuman Primates against...   2006-05-16   \n",
       "4       SARS: Systematic Review of Treatment Effects   2006-09-12   \n",
       "\n",
       "                                             authors                  journal  \\\n",
       "0  Lai, P.C.; Wong, C.M.; Hedley, A.J.; Lo, S.V.;...  Environ Health Perspect   \n",
       "1  Barnett, Daniel J.; Balicer, Ran D.; Blodgett,...  Environ Health Perspect   \n",
       "2  Lawler, James V; Endy, Timothy P; Hensley, Lis...                 PLoS Med   \n",
       "3  Sullivan, Nancy J; Geisbert, Thomas W; Geisber...                 PLoS Med   \n",
       "4  Stockman, Lauren J; Bellamy, Richard; Garner, ...                 PLoS Med   \n",
       "\n",
       "                                                 url  \\\n",
       "0  https://www.ncbi.nlm.nih.gov/pmc/articles/PMC1...   \n",
       "1  https://www.ncbi.nlm.nih.gov/pmc/articles/PMC1...   \n",
       "2  https://www.ncbi.nlm.nih.gov/pmc/articles/PMC1...   \n",
       "3  https://www.ncbi.nlm.nih.gov/pmc/articles/PMC1...   \n",
       "4  https://www.ncbi.nlm.nih.gov/pmc/articles/PMC1...   \n",
       "\n",
       "                                            abstract  \\\n",
       "0  We applied cartographic and geostatistical met...   \n",
       "1  State and local health departments continue to...   \n",
       "2  BACKGROUND: The emergence of severe acute resp...   \n",
       "3  BACKGROUND: Ebola virus causes a hemorrhagic f...   \n",
       "4  BACKGROUND: The SARS outbreak of 2002–2003 pre...   \n",
       "\n",
       "                                           full_text  \n",
       "0  Since the emergence and rapid spread of the et...  \n",
       "1  sudden fever and dry cough, along with chills ...  \n",
       "2  The emergence of severe acute respiratory synd...  \n",
       "3  Background Ebola virus causes a hemorrhagic fe...  \n",
       "4  The SARS outbreak of 2002-2003 presented clini...  "
      ]
     },
     "execution_count": 7,
     "metadata": {},
     "output_type": "execute_result"
    }
   ],
   "source": [
    "# Preview\n",
    "all_text.head()"
   ]
  },
  {
   "cell_type": "markdown",
   "metadata": {},
   "source": [
    "### 4. Instantiate the recommender\n",
    "All functions for data preparation and recommendation are contained within the **TfidfRecommender** class we have imported. Prior to running these functions, we must create an object of this class.\n",
    "\n",
    "Select one of the following tokenization methods to use in the model:\n",
    "\n",
    "| tokenization_method | Description                                                                                                                      |\n",
    "|:--------------------|:---------------------------------------------------------------------------------------------------------------------------------|\n",
    "| 'none'              | No tokenization is applied. Each word is considered a token.                                                                     |\n",
    "| 'nltk'              | Simple stemming is applied using NLTK.                                                                                           |\n",
    "| 'bert'              | HuggingFace BERT word tokenization ('bert-base-cased') is applied.                                                               |\n",
    "| 'scibert'           | SciBERT word tokenization ('allenai/scibert_scivocab_cased') is applied.<br>This is recommended for scientific journal articles. |"
   ]
  },
  {
   "cell_type": "code",
   "execution_count": 8,
   "metadata": {},
   "outputs": [],
   "source": [
    "# Create the recommender object\n",
    "recommender = TfidfRecommender(id_col='cord_uid', tokenization_method='scibert')"
   ]
  },
  {
   "cell_type": "markdown",
   "metadata": {},
   "source": [
    "### 5. Prepare text for use in the TF-IDF recommender\n",
    "The raw text retrieved for each article requires basic cleaning prior to being used in the TF-IDF model.\n",
    "\n",
    "Let's look at the full_text from the first article in our dataframe as an example."
   ]
  },
  {
   "cell_type": "code",
   "execution_count": 9,
   "metadata": {},
   "outputs": [
    {
     "name": "stdout",
     "output_type": "stream",
     "text": [
      "Since the emergence and rapid spread of the etiologic agent of severe acute respiratory syndrome (SARS)-SARS coronavirus (SARS-CoV)-in late 2002 and during the first 6 months of 2003, great progress has been made in understanding the biology, pathogenesis, and epidemiology of both the disease and the virus (SARS-CoV). Much remains to be done, however, including the development of effective therapeutic interventions and diagnostic tools with high sensitivity and specificity soon after the onset of clinical symptoms. The evaluation of key epidemiologic parameters and the impact of different public health interventions in the various settings that experienced minor or major epidemics is also needed (Affonso et al. 2004; Cui et al. 2003; Lau et al. 2004; Leung et al., in press) . In terms of outbreak control on the population level, many questions about \"superspreading events\" (SSEs) remain to be investigated. Such an SSE was responsible for > 300 cases (out of a total of 1,755) in the Amo\n"
     ]
    }
   ],
   "source": [
    "# Preview the first 1000 characters of the full scientific text from one example\n",
    "print(all_text['full_text'][0][:1000])"
   ]
  },
  {
   "cell_type": "markdown",
   "metadata": {},
   "source": [
    "As seen above, there are some special characters (such as • ▲ ■ ≥ °) and punctuation which should be removed prior to using the text as input. Casing (capitalization) is preserved for [BERT-based tokenization methods](https://huggingface.co/transformers/model_doc/bert.html), but is removed for simple or no tokenization.\n",
    "\n",
    "Let's join together the **title**, **abstract**, and **full_text** columns and clean them for future use in the TF-IDF model."
   ]
  },
  {
   "cell_type": "code",
   "execution_count": 10,
   "metadata": {},
   "outputs": [],
   "source": [
    "# Assign columns to clean and combine\n",
    "cols_to_clean = ['title','abstract','full_text']\n",
    "clean_col = 'cleaned_text'\n",
    "df_clean = recommender.clean_dataframe(all_text, cols_to_clean, clean_col)"
   ]
  },
  {
   "cell_type": "code",
   "execution_count": 11,
   "metadata": {},
   "outputs": [
    {
     "data": {
      "text/html": [
       "<div>\n",
       "<style scoped>\n",
       "    .dataframe tbody tr th:only-of-type {\n",
       "        vertical-align: middle;\n",
       "    }\n",
       "\n",
       "    .dataframe tbody tr th {\n",
       "        vertical-align: top;\n",
       "    }\n",
       "\n",
       "    .dataframe thead th {\n",
       "        text-align: right;\n",
       "    }\n",
       "</style>\n",
       "<table border=\"1\" class=\"dataframe\">\n",
       "  <thead>\n",
       "    <tr style=\"text-align: right;\">\n",
       "      <th></th>\n",
       "      <th>index</th>\n",
       "      <th>cord_uid</th>\n",
       "      <th>doi</th>\n",
       "      <th>title</th>\n",
       "      <th>publish_time</th>\n",
       "      <th>authors</th>\n",
       "      <th>journal</th>\n",
       "      <th>url</th>\n",
       "      <th>abstract</th>\n",
       "      <th>full_text</th>\n",
       "      <th>cleaned_text</th>\n",
       "    </tr>\n",
       "  </thead>\n",
       "  <tbody>\n",
       "    <tr>\n",
       "      <th>0</th>\n",
       "      <td>0</td>\n",
       "      <td>ej795nks</td>\n",
       "      <td>10.1289/ehp.7117</td>\n",
       "      <td>Understanding the Spatial Clustering of Severe...</td>\n",
       "      <td>2004-07-27</td>\n",
       "      <td>Lai, P.C.; Wong, C.M.; Hedley, A.J.; Lo, S.V.;...</td>\n",
       "      <td>Environ Health Perspect</td>\n",
       "      <td>https://www.ncbi.nlm.nih.gov/pmc/articles/PMC1...</td>\n",
       "      <td>We applied cartographic and geostatistical met...</td>\n",
       "      <td>Since the emergence and rapid spread of the et...</td>\n",
       "      <td>Understanding the Spatial Clustering of Severe...</td>\n",
       "    </tr>\n",
       "    <tr>\n",
       "      <th>1</th>\n",
       "      <td>1</td>\n",
       "      <td>9mzs5dl4</td>\n",
       "      <td>10.1289/ehp.7491</td>\n",
       "      <td>The Application of the Haddon Matrix to Public...</td>\n",
       "      <td>2005-02-02</td>\n",
       "      <td>Barnett, Daniel J.; Balicer, Ran D.; Blodgett,...</td>\n",
       "      <td>Environ Health Perspect</td>\n",
       "      <td>https://www.ncbi.nlm.nih.gov/pmc/articles/PMC1...</td>\n",
       "      <td>State and local health departments continue to...</td>\n",
       "      <td>sudden fever and dry cough, along with chills ...</td>\n",
       "      <td>The Application of the Haddon Matrix to Public...</td>\n",
       "    </tr>\n",
       "    <tr>\n",
       "      <th>2</th>\n",
       "      <td>2</td>\n",
       "      <td>u7lz3spe</td>\n",
       "      <td>10.1371/journal.pmed.0030149</td>\n",
       "      <td>Cynomolgus Macaque as an Animal Model for Seve...</td>\n",
       "      <td>2006-04-18</td>\n",
       "      <td>Lawler, James V; Endy, Timothy P; Hensley, Lis...</td>\n",
       "      <td>PLoS Med</td>\n",
       "      <td>https://www.ncbi.nlm.nih.gov/pmc/articles/PMC1...</td>\n",
       "      <td>BACKGROUND: The emergence of severe acute resp...</td>\n",
       "      <td>The emergence of severe acute respiratory synd...</td>\n",
       "      <td>Cynomolgus Macaque as an Animal Model for Seve...</td>\n",
       "    </tr>\n",
       "    <tr>\n",
       "      <th>3</th>\n",
       "      <td>3</td>\n",
       "      <td>na7z92i8</td>\n",
       "      <td>10.1371/journal.pmed.0030177</td>\n",
       "      <td>Immune Protection of Nonhuman Primates against...</td>\n",
       "      <td>2006-05-16</td>\n",
       "      <td>Sullivan, Nancy J; Geisbert, Thomas W; Geisber...</td>\n",
       "      <td>PLoS Med</td>\n",
       "      <td>https://www.ncbi.nlm.nih.gov/pmc/articles/PMC1...</td>\n",
       "      <td>BACKGROUND: Ebola virus causes a hemorrhagic f...</td>\n",
       "      <td>Background Ebola virus causes a hemorrhagic fe...</td>\n",
       "      <td>Immune Protection of Nonhuman Primates against...</td>\n",
       "    </tr>\n",
       "    <tr>\n",
       "      <th>4</th>\n",
       "      <td>4</td>\n",
       "      <td>j35w1vsw</td>\n",
       "      <td>10.1371/journal.pmed.0030343</td>\n",
       "      <td>SARS: Systematic Review of Treatment Effects</td>\n",
       "      <td>2006-09-12</td>\n",
       "      <td>Stockman, Lauren J; Bellamy, Richard; Garner, ...</td>\n",
       "      <td>PLoS Med</td>\n",
       "      <td>https://www.ncbi.nlm.nih.gov/pmc/articles/PMC1...</td>\n",
       "      <td>BACKGROUND: The SARS outbreak of 2002–2003 pre...</td>\n",
       "      <td>The SARS outbreak of 2002-2003 presented clini...</td>\n",
       "      <td>SARS Systematic Review of Treatment Effects BA...</td>\n",
       "    </tr>\n",
       "  </tbody>\n",
       "</table>\n",
       "</div>"
      ],
      "text/plain": [
       "   index  cord_uid                           doi  \\\n",
       "0      0  ej795nks              10.1289/ehp.7117   \n",
       "1      1  9mzs5dl4              10.1289/ehp.7491   \n",
       "2      2  u7lz3spe  10.1371/journal.pmed.0030149   \n",
       "3      3  na7z92i8  10.1371/journal.pmed.0030177   \n",
       "4      4  j35w1vsw  10.1371/journal.pmed.0030343   \n",
       "\n",
       "                                               title publish_time  \\\n",
       "0  Understanding the Spatial Clustering of Severe...   2004-07-27   \n",
       "1  The Application of the Haddon Matrix to Public...   2005-02-02   \n",
       "2  Cynomolgus Macaque as an Animal Model for Seve...   2006-04-18   \n",
       "3  Immune Protection of Nonhuman Primates against...   2006-05-16   \n",
       "4       SARS: Systematic Review of Treatment Effects   2006-09-12   \n",
       "\n",
       "                                             authors                  journal  \\\n",
       "0  Lai, P.C.; Wong, C.M.; Hedley, A.J.; Lo, S.V.;...  Environ Health Perspect   \n",
       "1  Barnett, Daniel J.; Balicer, Ran D.; Blodgett,...  Environ Health Perspect   \n",
       "2  Lawler, James V; Endy, Timothy P; Hensley, Lis...                 PLoS Med   \n",
       "3  Sullivan, Nancy J; Geisbert, Thomas W; Geisber...                 PLoS Med   \n",
       "4  Stockman, Lauren J; Bellamy, Richard; Garner, ...                 PLoS Med   \n",
       "\n",
       "                                                 url  \\\n",
       "0  https://www.ncbi.nlm.nih.gov/pmc/articles/PMC1...   \n",
       "1  https://www.ncbi.nlm.nih.gov/pmc/articles/PMC1...   \n",
       "2  https://www.ncbi.nlm.nih.gov/pmc/articles/PMC1...   \n",
       "3  https://www.ncbi.nlm.nih.gov/pmc/articles/PMC1...   \n",
       "4  https://www.ncbi.nlm.nih.gov/pmc/articles/PMC1...   \n",
       "\n",
       "                                            abstract  \\\n",
       "0  We applied cartographic and geostatistical met...   \n",
       "1  State and local health departments continue to...   \n",
       "2  BACKGROUND: The emergence of severe acute resp...   \n",
       "3  BACKGROUND: Ebola virus causes a hemorrhagic f...   \n",
       "4  BACKGROUND: The SARS outbreak of 2002–2003 pre...   \n",
       "\n",
       "                                           full_text  \\\n",
       "0  Since the emergence and rapid spread of the et...   \n",
       "1  sudden fever and dry cough, along with chills ...   \n",
       "2  The emergence of severe acute respiratory synd...   \n",
       "3  Background Ebola virus causes a hemorrhagic fe...   \n",
       "4  The SARS outbreak of 2002-2003 presented clini...   \n",
       "\n",
       "                                        cleaned_text  \n",
       "0  Understanding the Spatial Clustering of Severe...  \n",
       "1  The Application of the Haddon Matrix to Public...  \n",
       "2  Cynomolgus Macaque as an Animal Model for Seve...  \n",
       "3  Immune Protection of Nonhuman Primates against...  \n",
       "4  SARS Systematic Review of Treatment Effects BA...  "
      ]
     },
     "execution_count": 11,
     "metadata": {},
     "output_type": "execute_result"
    }
   ],
   "source": [
    "# Preview the dataframe with the cleaned text\n",
    "df_clean.head()"
   ]
  },
  {
   "cell_type": "code",
   "execution_count": 12,
   "metadata": {},
   "outputs": [
    {
     "name": "stdout",
     "output_type": "stream",
     "text": [
      "Understanding the Spatial Clustering of Severe Acute Respiratory Syndrome SARS in Hong Kong We applied cartographic and geostatistical methods in analyzing the patterns of disease spread during the 2003 severe acute respiratory syndrome SARS outbreak in Hong Kong using geographic information system GIS technology We analyzed an integrated database that contained clinical and personal details on all 1755 patients confirmed to have SARS from 15 February to 22 June 2003 Elementary mapping of disease occurrences in space and time simultaneously revealed the geographic extent of spread throughout the territory Statistical surfaces created by the kernel method confirmed that SARS cases were highly clustered and identified distinct disease hot spots Contextual analysis of mean and standard deviation of different density classes indicated that the period from day 1 18 February through day 16 6 March was the prodrome of the epidemic whereas days 86 15 May to 106 4 June marked the declining phas\n"
     ]
    }
   ],
   "source": [
    "# Preview the first 1000 characters of the cleaned version of the previous example\n",
    "print(df_clean[clean_col][0][:1000])"
   ]
  },
  {
   "cell_type": "markdown",
   "metadata": {},
   "source": [
    "Let's also tokenize the cleaned text for use in the TF-IDF model. The tokens are stored within our TfidfRecommender object."
   ]
  },
  {
   "cell_type": "code",
   "execution_count": 13,
   "metadata": {},
   "outputs": [],
   "source": [
    "# Tokenize text with tokenization_method specified in class instantiation\n",
    "tf, vectors_tokenized = recommender.tokenize_text(df_clean, text_col=clean_col)"
   ]
  },
  {
   "cell_type": "markdown",
   "metadata": {},
   "source": [
    "### 6. Recommend articles using TF-IDF\n",
    "Let's now fit the recommender model to the processed data (tokens) and retrieve the top k recommended articles.\n",
    "\n",
    "When creating our object, we specified k=5 so the `recommend_top_k_items` function will return the top 5 recommendations for each public domain article."
   ]
  },
  {
   "cell_type": "code",
   "execution_count": 14,
   "metadata": {
    "scrolled": true
   },
   "outputs": [],
   "source": [
    "# Fit the TF-IDF vectorizer\n",
    "recommender.fit(tf, vectors_tokenized)\n",
    "\n",
    "# Get recommendations\n",
    "top_k_recommendations = recommender.recommend_top_k_items(df_clean, k=5)"
   ]
  },
  {
   "cell_type": "markdown",
   "metadata": {},
   "source": [
    "In our recommendation table, each row represents a single recommendation.\n",
    "\n",
    "- **cord_uid** corresponds to the article that is being used to make recommendations from.\n",
    "- **rec_rank** contains the recommdation's rank (e.g., rank of 1 means top recommendation).\n",
    "- **rec_score** is the cosine similarity score between the query article and the recommended article.\n",
    "- **rec_cord_uid** corresponds to the recommended article."
   ]
  },
  {
   "cell_type": "code",
   "execution_count": 15,
   "metadata": {},
   "outputs": [
    {
     "data": {
      "text/html": [
       "<div>\n",
       "<style scoped>\n",
       "    .dataframe tbody tr th:only-of-type {\n",
       "        vertical-align: middle;\n",
       "    }\n",
       "\n",
       "    .dataframe tbody tr th {\n",
       "        vertical-align: top;\n",
       "    }\n",
       "\n",
       "    .dataframe thead th {\n",
       "        text-align: right;\n",
       "    }\n",
       "</style>\n",
       "<table border=\"1\" class=\"dataframe\">\n",
       "  <thead>\n",
       "    <tr style=\"text-align: right;\">\n",
       "      <th></th>\n",
       "      <th>cord_uid</th>\n",
       "      <th>rec_rank</th>\n",
       "      <th>rec_score</th>\n",
       "      <th>rec_cord_uid</th>\n",
       "    </tr>\n",
       "  </thead>\n",
       "  <tbody>\n",
       "    <tr>\n",
       "      <th>0</th>\n",
       "      <td>ej795nks</td>\n",
       "      <td>1</td>\n",
       "      <td>0.142415</td>\n",
       "      <td>u7lz3spe</td>\n",
       "    </tr>\n",
       "    <tr>\n",
       "      <th>1</th>\n",
       "      <td>ej795nks</td>\n",
       "      <td>2</td>\n",
       "      <td>0.117556</td>\n",
       "      <td>j35w1vsw</td>\n",
       "    </tr>\n",
       "    <tr>\n",
       "      <th>2</th>\n",
       "      <td>ej795nks</td>\n",
       "      <td>3</td>\n",
       "      <td>0.100740</td>\n",
       "      <td>nt60lv2k</td>\n",
       "    </tr>\n",
       "    <tr>\n",
       "      <th>3</th>\n",
       "      <td>ej795nks</td>\n",
       "      <td>4</td>\n",
       "      <td>0.077210</td>\n",
       "      <td>vp9d9vmp</td>\n",
       "    </tr>\n",
       "    <tr>\n",
       "      <th>4</th>\n",
       "      <td>ej795nks</td>\n",
       "      <td>5</td>\n",
       "      <td>0.074903</td>\n",
       "      <td>05d1mhkq</td>\n",
       "    </tr>\n",
       "    <tr>\n",
       "      <th>...</th>\n",
       "      <td>...</td>\n",
       "      <td>...</td>\n",
       "      <td>...</td>\n",
       "      <td>...</td>\n",
       "    </tr>\n",
       "    <tr>\n",
       "      <th>1215</th>\n",
       "      <td>7iukltl1</td>\n",
       "      <td>1</td>\n",
       "      <td>0.141435</td>\n",
       "      <td>w4d45fue</td>\n",
       "    </tr>\n",
       "    <tr>\n",
       "      <th>1216</th>\n",
       "      <td>7iukltl1</td>\n",
       "      <td>2</td>\n",
       "      <td>0.071325</td>\n",
       "      <td>vwye3pk9</td>\n",
       "    </tr>\n",
       "    <tr>\n",
       "      <th>1217</th>\n",
       "      <td>7iukltl1</td>\n",
       "      <td>3</td>\n",
       "      <td>0.050743</td>\n",
       "      <td>c0v2iive</td>\n",
       "    </tr>\n",
       "    <tr>\n",
       "      <th>1218</th>\n",
       "      <td>7iukltl1</td>\n",
       "      <td>4</td>\n",
       "      <td>0.049965</td>\n",
       "      <td>fcwxyco2</td>\n",
       "    </tr>\n",
       "    <tr>\n",
       "      <th>1219</th>\n",
       "      <td>7iukltl1</td>\n",
       "      <td>5</td>\n",
       "      <td>0.049659</td>\n",
       "      <td>aham72b9</td>\n",
       "    </tr>\n",
       "  </tbody>\n",
       "</table>\n",
       "<p>1220 rows × 4 columns</p>\n",
       "</div>"
      ],
      "text/plain": [
       "      cord_uid  rec_rank  rec_score rec_cord_uid\n",
       "0     ej795nks         1   0.142415     u7lz3spe\n",
       "1     ej795nks         2   0.117556     j35w1vsw\n",
       "2     ej795nks         3   0.100740     nt60lv2k\n",
       "3     ej795nks         4   0.077210     vp9d9vmp\n",
       "4     ej795nks         5   0.074903     05d1mhkq\n",
       "...        ...       ...        ...          ...\n",
       "1215  7iukltl1         1   0.141435     w4d45fue\n",
       "1216  7iukltl1         2   0.071325     vwye3pk9\n",
       "1217  7iukltl1         3   0.050743     c0v2iive\n",
       "1218  7iukltl1         4   0.049965     fcwxyco2\n",
       "1219  7iukltl1         5   0.049659     aham72b9\n",
       "\n",
       "[1220 rows x 4 columns]"
      ]
     },
     "execution_count": 15,
     "metadata": {},
     "output_type": "execute_result"
    }
   ],
   "source": [
    "# Preview the recommendations\n",
    "top_k_recommendations"
   ]
  },
  {
   "cell_type": "markdown",
   "metadata": {},
   "source": [
    "Optionally, we can access the full recommendation dictionary, which contains full ranked lists for each public domain article."
   ]
  },
  {
   "cell_type": "code",
   "execution_count": 16,
   "metadata": {},
   "outputs": [
    {
     "name": "stdout",
     "output_type": "stream",
     "text": [
      "Number of recommended articles for ej795nks: 243\n"
     ]
    }
   ],
   "source": [
    "# Optionally view full recommendation list\n",
    "full_rec_list = recommender.recommendations\n",
    "\n",
    "article_of_interest = 'ej795nks'\n",
    "print('Number of recommended articles for ' + article_of_interest + ': ' + str(len(full_rec_list[article_of_interest])))"
   ]
  },
  {
   "cell_type": "markdown",
   "metadata": {},
   "source": [
    "Optionally, we can also view the tokens and stop words which were used in the recommender."
   ]
  },
  {
   "cell_type": "code",
   "execution_count": 17,
   "metadata": {},
   "outputs": [
    {
     "name": "stdout",
     "output_type": "stream",
     "text": [
      "['understanding', 'spatial', 'clustering', 'severe', 'acute', 'respiratory', 'syndrome', 'sa', 'rs', 'hon']\n"
     ]
    }
   ],
   "source": [
    "# Optionally view tokens\n",
    "tokens = recommender.get_tokens()\n",
    "\n",
    "# Preview 10 tokens\n",
    "print(list(tokens.keys())[:10])"
   ]
  },
  {
   "cell_type": "code",
   "execution_count": 18,
   "metadata": {},
   "outputs": [
    {
     "name": "stdout",
     "output_type": "stream",
     "text": [
      "['a', 'about', 'above', 'across', 'after', 'afterwards', 'again', 'against', 'all', 'almost']\n"
     ]
    }
   ],
   "source": [
    "# Preview just the first 10 stop words sorted alphabetically\n",
    "stop_words = list(recommender.get_stop_words())\n",
    "stop_words.sort()\n",
    "print(stop_words[:10])"
   ]
  },
  {
   "cell_type": "markdown",
   "metadata": {},
   "source": [
    "### 7. Display top recommendations for article of interest\n",
    "Now that we have the recommendation table containing IDs for both query and recommended articles, we can easily return the full metadata for the top k recommendations for any given article."
   ]
  },
  {
   "cell_type": "code",
   "execution_count": 19,
   "metadata": {
    "scrolled": false
   },
   "outputs": [
    {
     "data": {
      "text/html": [
       "<style  type=\"text/css\" >\n",
       "</style><table id=\"T_382631a6_84f7_11ea_a412_b831b595e23f\" ><thead>    <tr>        <th class=\"blank level0\" ></th>        <th class=\"col_heading level0 col0\" >rank</th>        <th class=\"col_heading level0 col1\" >similarity_score</th>        <th class=\"col_heading level0 col2\" >title</th>        <th class=\"col_heading level0 col3\" >authors</th>        <th class=\"col_heading level0 col4\" >journal</th>        <th class=\"col_heading level0 col5\" >publish_time</th>        <th class=\"col_heading level0 col6\" >url</th>    </tr></thead><tbody>\n",
       "                <tr>\n",
       "                        <th id=\"T_382631a6_84f7_11ea_a412_b831b595e23flevel0_row0\" class=\"row_heading level0 row0\" >0</th>\n",
       "                        <td id=\"T_382631a6_84f7_11ea_a412_b831b595e23frow0_col0\" class=\"data row0 col0\" >1</td>\n",
       "                        <td id=\"T_382631a6_84f7_11ea_a412_b831b595e23frow0_col1\" class=\"data row0 col1\" >0.142415</td>\n",
       "                        <td id=\"T_382631a6_84f7_11ea_a412_b831b595e23frow0_col2\" class=\"data row0 col2\" >Cynomolgus Macaque as an Animal Model for Severe Acute Respiratory Syndrome</td>\n",
       "                        <td id=\"T_382631a6_84f7_11ea_a412_b831b595e23frow0_col3\" class=\"data row0 col3\" >Lawler, James V; Endy, Timothy P; Hensley, Lisa E; Garrison, Aura; Fritz, Elizabeth A; Lesar, May; Baric, Ralph S; Kulesh, David A; Norwood, David A; Wasieloski, Leonard P; Ulrich, Melanie P; Slezak, Tom R; Vitalis, Elizabeth; Huggins, John W; Jahrling, Peter B; Paragas, Jason</td>\n",
       "                        <td id=\"T_382631a6_84f7_11ea_a412_b831b595e23frow0_col4\" class=\"data row0 col4\" >PLoS Med</td>\n",
       "                        <td id=\"T_382631a6_84f7_11ea_a412_b831b595e23frow0_col5\" class=\"data row0 col5\" >2006-04-18</td>\n",
       "                        <td id=\"T_382631a6_84f7_11ea_a412_b831b595e23frow0_col6\" class=\"data row0 col6\" ><a href=\"https://www.ncbi.nlm.nih.gov/pmc/articles/PMC1435788/\">https://www.ncbi.nlm.nih.gov/pmc/articles/PMC1435788/</a></td>\n",
       "            </tr>\n",
       "            <tr>\n",
       "                        <th id=\"T_382631a6_84f7_11ea_a412_b831b595e23flevel0_row1\" class=\"row_heading level0 row1\" >1</th>\n",
       "                        <td id=\"T_382631a6_84f7_11ea_a412_b831b595e23frow1_col0\" class=\"data row1 col0\" >2</td>\n",
       "                        <td id=\"T_382631a6_84f7_11ea_a412_b831b595e23frow1_col1\" class=\"data row1 col1\" >0.117556</td>\n",
       "                        <td id=\"T_382631a6_84f7_11ea_a412_b831b595e23frow1_col2\" class=\"data row1 col2\" >SARS: Systematic Review of Treatment Effects</td>\n",
       "                        <td id=\"T_382631a6_84f7_11ea_a412_b831b595e23frow1_col3\" class=\"data row1 col3\" >Stockman, Lauren J; Bellamy, Richard; Garner, Paul</td>\n",
       "                        <td id=\"T_382631a6_84f7_11ea_a412_b831b595e23frow1_col4\" class=\"data row1 col4\" >PLoS Med</td>\n",
       "                        <td id=\"T_382631a6_84f7_11ea_a412_b831b595e23frow1_col5\" class=\"data row1 col5\" >2006-09-12</td>\n",
       "                        <td id=\"T_382631a6_84f7_11ea_a412_b831b595e23frow1_col6\" class=\"data row1 col6\" ><a href=\"https://www.ncbi.nlm.nih.gov/pmc/articles/PMC1564166/\">https://www.ncbi.nlm.nih.gov/pmc/articles/PMC1564166/</a></td>\n",
       "            </tr>\n",
       "            <tr>\n",
       "                        <th id=\"T_382631a6_84f7_11ea_a412_b831b595e23flevel0_row2\" class=\"row_heading level0 row2\" >2</th>\n",
       "                        <td id=\"T_382631a6_84f7_11ea_a412_b831b595e23frow2_col0\" class=\"data row2 col0\" >3</td>\n",
       "                        <td id=\"T_382631a6_84f7_11ea_a412_b831b595e23frow2_col1\" class=\"data row2 col1\" >0.10074</td>\n",
       "                        <td id=\"T_382631a6_84f7_11ea_a412_b831b595e23frow2_col2\" class=\"data row2 col2\" >A Network Integration Approach to Predict Conserved Regulators Related to Pathogenicity of Influenza and SARS-CoV Respiratory Viruses</td>\n",
       "                        <td id=\"T_382631a6_84f7_11ea_a412_b831b595e23frow2_col3\" class=\"data row2 col3\" >Mitchell, Hugh D.; Eisfeld, Amie J.; Sims, Amy C.; McDermott, Jason E.; Matzke, Melissa M.; Webb-Robertson, Bobbi-Jo M.; Tilton, Susan C.; Tchitchek, Nicolas; Josset, Laurence; Li, Chengjun; Ellis, Amy L.; Chang, Jean H.; Heegel, Robert A.; Luna, Maria L.; Schepmoes, Athena A.; Shukla, Anil K.; Metz, Thomas O.; Neumann, Gabriele; Benecke, Arndt G.; Smith, Richard D.; Baric, Ralph S.; Kawaoka, Yoshihiro; Katze, Michael G.; Waters, Katrina M.</td>\n",
       "                        <td id=\"T_382631a6_84f7_11ea_a412_b831b595e23frow2_col4\" class=\"data row2 col4\" >PLoS One</td>\n",
       "                        <td id=\"T_382631a6_84f7_11ea_a412_b831b595e23frow2_col5\" class=\"data row2 col5\" >2013-07-25</td>\n",
       "                        <td id=\"T_382631a6_84f7_11ea_a412_b831b595e23frow2_col6\" class=\"data row2 col6\" ><a href=\"https://www.ncbi.nlm.nih.gov/pmc/articles/PMC3723910/\">https://www.ncbi.nlm.nih.gov/pmc/articles/PMC3723910/</a></td>\n",
       "            </tr>\n",
       "            <tr>\n",
       "                        <th id=\"T_382631a6_84f7_11ea_a412_b831b595e23flevel0_row3\" class=\"row_heading level0 row3\" >3</th>\n",
       "                        <td id=\"T_382631a6_84f7_11ea_a412_b831b595e23frow3_col0\" class=\"data row3 col0\" >4</td>\n",
       "                        <td id=\"T_382631a6_84f7_11ea_a412_b831b595e23frow3_col1\" class=\"data row3 col1\" >0.0772101</td>\n",
       "                        <td id=\"T_382631a6_84f7_11ea_a412_b831b595e23frow3_col2\" class=\"data row3 col2\" >Genome Wide Identification of SARS-CoV Susceptibility Loci Using the Collaborative Cross</td>\n",
       "                        <td id=\"T_382631a6_84f7_11ea_a412_b831b595e23frow3_col3\" class=\"data row3 col3\" >Gralinski, Lisa E.; Ferris, Martin T.; Aylor, David L.; Whitmore, Alan C.; Green, Richard; Frieman, Matthew B.; Deming, Damon; Menachery, Vineet D.; Miller, Darla R.; Buus, Ryan J.; Bell, Timothy A.; Churchill, Gary A.; Threadgill, David W.; Katze, Michael G.; McMillan, Leonard; Valdar, William; Heise, Mark T.; Pardo-Manuel de Villena, Fernando; Baric, Ralph S.</td>\n",
       "                        <td id=\"T_382631a6_84f7_11ea_a412_b831b595e23frow3_col4\" class=\"data row3 col4\" >PLoS Genet</td>\n",
       "                        <td id=\"T_382631a6_84f7_11ea_a412_b831b595e23frow3_col5\" class=\"data row3 col5\" >2015-10-09</td>\n",
       "                        <td id=\"T_382631a6_84f7_11ea_a412_b831b595e23frow3_col6\" class=\"data row3 col6\" ><a href=\"https://www.ncbi.nlm.nih.gov/pmc/articles/PMC4599853/\">https://www.ncbi.nlm.nih.gov/pmc/articles/PMC4599853/</a></td>\n",
       "            </tr>\n",
       "            <tr>\n",
       "                        <th id=\"T_382631a6_84f7_11ea_a412_b831b595e23flevel0_row4\" class=\"row_heading level0 row4\" >4</th>\n",
       "                        <td id=\"T_382631a6_84f7_11ea_a412_b831b595e23frow4_col0\" class=\"data row4 col0\" >5</td>\n",
       "                        <td id=\"T_382631a6_84f7_11ea_a412_b831b595e23frow4_col1\" class=\"data row4 col1\" >0.0749032</td>\n",
       "                        <td id=\"T_382631a6_84f7_11ea_a412_b831b595e23frow4_col2\" class=\"data row4 col2\" >A Porcine Epidemic Diarrhea Virus Outbreak in One Geographic Region of the United States: Descriptive Epidemiology and Investigation of the Possibility of Airborne Virus Spread</td>\n",
       "                        <td id=\"T_382631a6_84f7_11ea_a412_b831b595e23frow4_col3\" class=\"data row4 col3\" >Beam, Andrea; Goede, Dane; Fox, Andrew; McCool, Mary Jane; Wall, Goldlin; Haley, Charles; Morrison, Robert</td>\n",
       "                        <td id=\"T_382631a6_84f7_11ea_a412_b831b595e23frow4_col4\" class=\"data row4 col4\" >PLoS One</td>\n",
       "                        <td id=\"T_382631a6_84f7_11ea_a412_b831b595e23frow4_col5\" class=\"data row4 col5\" >2015-12-28</td>\n",
       "                        <td id=\"T_382631a6_84f7_11ea_a412_b831b595e23frow4_col6\" class=\"data row4 col6\" ><a href=\"https://www.ncbi.nlm.nih.gov/pmc/articles/PMC4692406/\">https://www.ncbi.nlm.nih.gov/pmc/articles/PMC4692406/</a></td>\n",
       "            </tr>\n",
       "    </tbody></table>"
      ],
      "text/plain": [
       "<pandas.io.formats.style.Styler at 0x20414a5ee48>"
      ]
     },
     "execution_count": 19,
     "metadata": {},
     "output_type": "execute_result"
    }
   ],
   "source": [
    "cols_to_keep = ['title','authors','journal','publish_time','url']\n",
    "recommender.get_top_k_recommendations(metadata_public,article_of_interest,cols_to_keep)"
   ]
  },
  {
   "cell_type": "markdown",
   "metadata": {},
   "source": [
    "### Conclusion\n",
    "In this notebook, we have demonstrated how to create a TF-IDF recommender to recommend the top k (in this case 5) articles similar in content to an article of interest (in this example, article with `cord_uid='ej795nks'`)."
   ]
  }
 ],
 "metadata": {
  "kernelspec": {
   "display_name": "Python (rec_repo)",
   "language": "python",
   "name": "rec_repo"
  },
  "language_info": {
   "codemirror_mode": {
    "name": "ipython",
    "version": 3
   },
   "file_extension": ".py",
   "mimetype": "text/x-python",
   "name": "python",
   "nbconvert_exporter": "python",
   "pygments_lexer": "ipython3",
   "version": "3.7.5"
  }
 },
 "nbformat": 4,
 "nbformat_minor": 2
}
