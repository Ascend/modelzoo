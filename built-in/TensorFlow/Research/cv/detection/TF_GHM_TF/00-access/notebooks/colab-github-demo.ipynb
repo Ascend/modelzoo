{
  "nbformat": 4,
  "nbformat_minor": 0,
  "metadata": {
    "colab": {
      "name": "TensorFlowGHMLossWeights.ipynb",
      "provenance": [],
      "collapsed_sections": []
    },
    "kernelspec": {
      "name": "python3",
      "display_name": "Python 3"
    }
  },
  "cells": [
    {
      "cell_type": "markdown",
      "metadata": {
        "id": "hSMTmmPX9RV0",
        "colab_type": "text"
      },
      "source": [
        "# TensorFlow GHM Loss Weights Toy Demo\n",
        "Get the GHM weights by the function bellow\n",
        "```python\n",
        "def get_ghm_weight(predict, target, valid_mask, bins=10, alpha=0.75,\n",
        "               dtype=tf.float32, name='GHM_weight'):\n",
        "    \"\"\" Get gradient Harmonized Weights.\n",
        "    This is an implementation of the GHM ghm_weights described\n",
        "    in https://arxiv.org/abs/1811.05181.\n",
        "    Args:\n",
        "        predict:\n",
        "            The prediction of categories branch, [0, 1].\n",
        "            -shape [batch_num, category_num].\n",
        "        target:\n",
        "            The target of categories branch, {0, 1}.\n",
        "            -shape [batch_num, category_num].\n",
        "        valid_mask:\n",
        "            The valid mask, is 0 when the sample is ignored, {0, 1}.\n",
        "            -shape [batch_num, category_num].\n",
        "        bins:\n",
        "            The number of bins for region approximation.\n",
        "        alpha:\n",
        "            The moving average parameter.\n",
        "        dtype:\n",
        "            The dtype for all operations.\n",
        "    \n",
        "    Returns:\n",
        "        weights:\n",
        "            The beta value of each sample described in paper.\n",
        "    \"\"\"\n",
        "```"
      ]
    },
    {
      "cell_type": "markdown",
      "metadata": {
        "id": "2WNdiCrh-AIF",
        "colab_type": "text"
      },
      "source": [
        "## Setup Environment"
      ]
    },
    {
      "cell_type": "code",
      "metadata": {
        "id": "YXlAsdKy9OAJ",
        "colab_type": "code",
        "colab": {}
      },
      "source": [
        "!git clone https://github.com/peteryuX/tensorflow-GHM-loss.git\n",
        "%cd tensorflow-GHM-loss/\n",
        "!pip install tensorflow==1.15.0"
      ],
      "execution_count": 0,
      "outputs": []
    },
    {
      "cell_type": "markdown",
      "metadata": {
        "id": "HdBiajyE-QR3",
        "colab_type": "text"
      },
      "source": [
        "# Get GHM Loss Weights"
      ]
    },
    {
      "cell_type": "code",
      "metadata": {
        "id": "bij78Gzf-WhD",
        "colab_type": "code",
        "colab": {}
      },
      "source": [
        "!python tf_ghm_loss.py"
      ],
      "execution_count": 0,
      "outputs": []
    }
  ]
}